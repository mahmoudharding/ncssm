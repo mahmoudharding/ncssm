{
 "cells": [
  {
   "cell_type": "code",
   "execution_count": null,
   "metadata": {
    "deletable": false,
    "editable": false
   },
   "outputs": [],
   "source": [
    "# Initialize Otter\n",
    "import otter\n",
    "grader = otter.Notebook(\"diy02.ipynb\")"
   ]
  },
  {
   "cell_type": "markdown",
   "metadata": {
    "tags": []
   },
   "source": [
    "# Run the cell below\n",
    "\n",
    "To run a code cell (i.e.; execute the python code inside a Jupyter notebook) you can click the play button on the ribbon underneath the name of the notebook. Before you begin click the \"Run cell\" button at the top that looks like ▶| or hold down `Shift` + `Return`."
   ]
  },
  {
   "cell_type": "markdown",
   "metadata": {},
   "source": [
    "# DIY02: Templates for Autograded and Manual Lessons\n",
    "\n",
    "Welcome to the Summer Institute for Data Science! During this session will create notebooks like this one. You can't learn technical subjects without hands-on practice, so these activities are an important part of the session.\n",
    "\n",
    "**Collaboration Policy:**\n",
    "\n",
    "Collaborating on labs is more than okay $-$ it's encouraged! You should rarely remain stuck for more than a few minutes on questions in labs, so ask a neighbor or an instructor for help. Explaining things is beneficial, too $-$ the best way to solidify your knowledge of a subject is to explain it. You should **_not just_** copy/paste someone else's code, but rather work together to gain understanding of the task you need to complete. \n",
    "\n",
    "**Due Date:** \n",
    "\n",
    "## Today's Assignment\n",
    "\n",
    "In today's assignment, you'll learn how to:\n",
    "\n",
    "- create a teacher notebook with autograded and manual questions\n",
    "\n",
    "- create a student notebook from a teacher notebook.\n",
    "\n",
    "Let's get started!"
   ]
  },
  {
   "cell_type": "markdown",
   "metadata": {},
   "source": [
    "**Name:** \n",
    "\n",
    "**Course:** \n",
    "\n",
    "**Date:**\n",
    "\n",
    "Run the cell below to set up the notebook."
   ]
  },
  {
   "cell_type": "code",
   "execution_count": null,
   "metadata": {
    "tags": []
   },
   "outputs": [],
   "source": [
    "import numpy as np\n",
    "from datascience import *\n",
    "\n",
    "%matplotlib inline\n",
    "import matplotlib.pyplot as plt\n",
    "plt.style.use('fivethirtyeight')"
   ]
  },
  {
   "cell_type": "markdown",
   "metadata": {},
   "source": [
    "Let's load a few datasets. We'll use them to make up questions (autograded and manual) for our notebook."
   ]
  },
  {
   "cell_type": "code",
   "execution_count": null,
   "metadata": {
    "tags": []
   },
   "outputs": [],
   "source": [
    "actors = Table.read_table('data/actors.csv')\n",
    "hybrid = Table.read_table('data/hybrid.csv')\n",
    "sons = Table.read_table('data/sons_heights.csv')"
   ]
  },
  {
   "cell_type": "markdown",
   "metadata": {
    "tags": []
   },
   "source": [
    "## 1. Autograded Questions"
   ]
  },
  {
   "cell_type": "markdown",
   "metadata": {},
   "source": [
    "**Question 1.** Use the `actors` table to find the top 10 grossing movies in descending order. Save the results to a table named `top10_gross`.\n"
   ]
  },
  {
   "cell_type": "code",
   "execution_count": null,
   "metadata": {
    "tags": []
   },
   "outputs": [],
   "source": [
    "top10_gross = ...\n",
    "top10_gross"
   ]
  },
  {
   "cell_type": "code",
   "execution_count": null,
   "metadata": {
    "deletable": false,
    "editable": false
   },
   "outputs": [],
   "source": [
    "grader.check(\"q1\")"
   ]
  },
  {
   "cell_type": "markdown",
   "metadata": {},
   "source": [
    "**Question 2.** What is the average height of all the sons from the `sons` table. Save this value to the variable named `avg_son_height`.\n"
   ]
  },
  {
   "cell_type": "code",
   "execution_count": null,
   "metadata": {
    "tags": []
   },
   "outputs": [],
   "source": [
    "avg_son_height = np.mean(sons.column('son'))\n",
    "avg_son_height"
   ]
  },
  {
   "cell_type": "code",
   "execution_count": null,
   "metadata": {
    "deletable": false,
    "editable": false
   },
   "outputs": [],
   "source": [
    "grader.check(\"q2\")"
   ]
  },
  {
   "cell_type": "code",
   "execution_count": null,
   "metadata": {
    "tags": []
   },
   "outputs": [],
   "source": [
    "hybrid.labels"
   ]
  },
  {
   "cell_type": "markdown",
   "metadata": {},
   "source": [
    "**Question 3.** What is the _median_ msrp for the vehicles in the `hybrid` table. Save this value to the variable named `med_msrp`.\n"
   ]
  },
  {
   "cell_type": "code",
   "execution_count": null,
   "metadata": {
    "tags": []
   },
   "outputs": [],
   "source": [
    "med_msrp = np.median(hybrid.column('msrp'))\n",
    "med_msrp"
   ]
  },
  {
   "cell_type": "code",
   "execution_count": null,
   "metadata": {
    "deletable": false,
    "editable": false
   },
   "outputs": [],
   "source": [
    "grader.check(\"q3\")"
   ]
  },
  {
   "cell_type": "markdown",
   "metadata": {},
   "source": [
    "## 2. Manually Graded Questions"
   ]
  },
  {
   "cell_type": "markdown",
   "metadata": {},
   "source": [
    "<!-- BEGIN QUESTION -->\n",
    "\n",
    "**Question 4.** Have you seen any of the movies in the `top10_gross` table? If so, which one - which one is your favorite? If not, list a movie that you've seen or a book that you've reaf in the last 6 months. Explain why you like the movie or book.\n"
   ]
  },
  {
   "cell_type": "markdown",
   "metadata": {},
   "source": [
    "_Type your answer here, replacing this text._"
   ]
  },
  {
   "cell_type": "markdown",
   "metadata": {},
   "source": [
    "<!-- END QUESTION -->\n",
    "\n",
    "<!-- BEGIN QUESTION -->\n",
    "\n",
    "**Question 5.** Make a horizontal bar graph that shows the `Actor` and the `Gross` for the `top10_gross` table.\n",
    "\n",
    "**Hint:** Replace the `____` with the correct method name and the ellipses (...) with the correct labels."
   ]
  },
  {
   "cell_type": "code",
   "execution_count": null,
   "metadata": {
    "tags": []
   },
   "outputs": [],
   "source": [
    "top10_gross.___(...,...)"
   ]
  },
  {
   "cell_type": "markdown",
   "metadata": {},
   "source": [
    "<!-- END QUESTION -->\n",
    "\n",
    "<!-- BEGIN QUESTION -->\n",
    "\n",
    "**Question 6.** Write a function that takes a sample (without replacement) of 50 cars from the `hybrid` table and returns the median msrp from the sample."
   ]
  },
  {
   "cell_type": "code",
   "execution_count": null,
   "metadata": {
    "tags": []
   },
   "outputs": [],
   "source": [
    "def sample_med():\n",
    "    \"\"\"Takes a sample (without repalcement) of 50 cars \n",
    "        from the hybrid table and returns the median msrp \n",
    "        from the sample.\n",
    "    \"\"\"\n",
    "    ...\n",
    "    return ..."
   ]
  },
  {
   "cell_type": "markdown",
   "metadata": {},
   "source": [
    "<!-- END QUESTION -->\n",
    "\n"
   ]
  },
  {
   "cell_type": "markdown",
   "metadata": {
    "deletable": false,
    "editable": false
   },
   "source": [
    "## Submission\n",
    "\n",
    "Make sure you have run all cells in your notebook in order before running the cell below, so that all images/graphs appear in the output. The cell below will generate a zip file for you to submit. **Please save before exporting!**"
   ]
  },
  {
   "cell_type": "code",
   "execution_count": null,
   "metadata": {
    "deletable": false,
    "editable": false
   },
   "outputs": [],
   "source": [
    "# Save your notebook first, then run this cell to export your submission.\n",
    "grader.export(pdf=False, run_tests=True)"
   ]
  },
  {
   "cell_type": "markdown",
   "metadata": {},
   "source": [
    " "
   ]
  }
 ],
 "metadata": {
  "kernelspec": {
   "display_name": "Python 3 (ipykernel)",
   "language": "python",
   "name": "python3"
  },
  "language_info": {
   "codemirror_mode": {
    "name": "ipython",
    "version": 3
   },
   "file_extension": ".py",
   "mimetype": "text/x-python",
   "name": "python",
   "nbconvert_exporter": "python",
   "pygments_lexer": "ipython3",
   "version": "3.9.9"
  },
  "otter": {
   "OK_FORMAT": true,
   "tests": {
    "q1": {
     "name": "q1",
     "points": null,
     "suites": [
      {
       "cases": [
        {
         "code": ">>> top10_gross != ...\nTrue",
         "failure_message": "Did you forget to enter an expression?",
         "hidden": false,
         "locked": false
        },
        {
         "code": ">>> isinstance(top10_gross, tables.Table)\nTrue",
         "failure_message": "Check your data type.",
         "hidden": false,
         "locked": false
        },
        {
         "code": ">>> top10_gross.num_rows == 10\nTrue",
         "failure_message": "Do you have the correct number of rows?",
         "hidden": false,
         "locked": false
        }
       ],
       "scored": true,
       "setup": "",
       "teardown": "",
       "type": "doctest"
      }
     ]
    },
    "q2": {
     "name": "q2",
     "points": null,
     "suites": [
      {
       "cases": [
        {
         "code": ">>> avg_son_height != ...\nTrue",
         "failure_message": "Did you forget to enter an expression?",
         "hidden": false,
         "locked": false
        },
        {
         "code": ">>> isinstance(avg_son_height, float)\nTrue",
         "failure_message": "Check your data type.",
         "hidden": false,
         "locked": false
        },
        {
         "code": ">>> import math\n>>> math.isclose(70.45, avg_son_height, rel_tol=0.001)\nTrue",
         "failure_message": "Did you perform the correct calculation?",
         "hidden": false,
         "locked": false
        },
        {
         "code": ">>> avg_son_height\n70.454748603351959",
         "failure_message": "Did you perform the correct calculation?",
         "hidden": false,
         "locked": false
        }
       ],
       "scored": true,
       "setup": "",
       "teardown": "",
       "type": "doctest"
      }
     ]
    },
    "q3": {
     "name": "q3",
     "points": null,
     "suites": [
      {
       "cases": [
        {
         "code": ">>> med_msrp != ...\nTrue",
         "failure_message": "Did you forget to enter an expression?",
         "hidden": false,
         "locked": false
        },
        {
         "code": ">>> isinstance(med_msrp, float)\nTrue",
         "failure_message": "Check your data type.",
         "hidden": false,
         "locked": false
        },
        {
         "code": ">>> med_msrp == 31950.0\nTrue",
         "failure_message": "Check your calculation.",
         "hidden": false,
         "locked": false
        },
        {
         "code": ">>> med_msrp\n31950.0",
         "failure_message": "Check your calculation.",
         "hidden": false,
         "locked": false
        }
       ],
       "scored": true,
       "setup": "",
       "teardown": "",
       "type": "doctest"
      }
     ]
    }
   }
  }
 },
 "nbformat": 4,
 "nbformat_minor": 4
}
