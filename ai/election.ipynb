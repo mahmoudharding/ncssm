{
 "cells": [
  {
   "cell_type": "markdown",
   "id": "4c55b4b0-d7ce-4053-8454-416750a54d07",
   "metadata": {},
   "source": [
    "**Name:** \n",
    "\n",
    "**Section:** \n",
    "\n",
    "**Date:**"
   ]
  },
  {
   "cell_type": "markdown",
   "id": "01a9bc24-d66e-43da-b65c-325ae328c0f2",
   "metadata": {},
   "source": [
    "# Run the cell below\n",
    "\n",
    "To run a code cell (i.e.; execute the python code inside a Jupyter notebook) you can click the play button on the ribbon underneath the name of the notebook that looks like ▶| or hold down `Shift` + `Return`."
   ]
  },
  {
   "cell_type": "code",
   "execution_count": null,
   "id": "d49d6fa5",
   "metadata": {
    "deletable": false,
    "editable": false
   },
   "outputs": [],
   "source": [
    "# Initialize Otter\n",
    "import otter\n",
    "grader = otter.Notebook(\"election.ipynb\")"
   ]
  },
  {
   "cell_type": "markdown",
   "id": "99c0256f-a7eb-4527-8471-359af90d5497",
   "metadata": {},
   "source": [
    "Before you begin the activity, run the code cell below to import all the libraries and modules needed."
   ]
  },
  {
   "cell_type": "code",
   "execution_count": null,
   "id": "76268d0f-0f2d-45a1-b1a4-af955766bb45",
   "metadata": {},
   "outputs": [],
   "source": [
    "import numpy as np\n",
    "from scipy import special\n",
    "import matplotlib.pyplot as plt\n",
    "%matplotlib inline\n",
    "plt.style.use('fivethirtyeight')"
   ]
  },
  {
   "cell_type": "markdown",
   "id": "e8615af2-e637-4159-b815-7d499cb26666",
   "metadata": {
    "jp-MarkdownHeadingCollapsed": true,
    "tags": []
   },
   "source": [
    "## Introduction\n",
    "\n",
    "The outcome of the 2016 US presidential election took many people and many pollsters by surprise. In this assignment we will carry out a post mortem simulation study in an attempt to understand what happened. Doing such an analysis is especially important given how often federal elections happen. \n",
    "\n",
    "According to [whitehouse.gov](https://www.whitehouse.gov/about-the-white-house/our-government/elections-and-voting/#:~:text=Federal%20elections%20occur%20every%20two,is%20held%20every%20fourth%20year.) \n",
    "\n",
    "> \"Federal elections occur every two years, on the first Tuesday after the first Monday in November. Every member of the House of Representatives and about one-third of the Senate is up for reelection in any given election year. A presidential election is held every fourth year.\" \n",
    "\n",
    "> \"Federal elections are administered by state and local governments, and the specifics of how elections are conducted differ from state to state. The Constitution and laws of the United States grant States wide latitude in how they administer elections.\"."
   ]
  },
  {
   "cell_type": "markdown",
   "id": "bf5ec10b-3073-46b5-9250-bac89dc5ab1e",
   "metadata": {},
   "source": [
    "# Random Sample\n",
    "\n",
    "In Pennsylvania, 6,165,478 people voted in the 2016 Presidential election.\n",
    "Trump received 48.18% of the vote and Clinton recieved 47.46%.\n",
    "This doesn't add up to 100% because other candidates received votes.\n",
    "All together these other candidates received 100% - 48.18% - 47.46% = 4.36% of the vote.\n",
    "\n",
    "The table below displays the counts and proportions.\n",
    "\n",
    "\n",
    "|   Voted for   |  Trump|    Clinton|    Other|\n",
    "|-----------|-----------|-----------|---------|\n",
    "| Probability      |   0.4818   | 0.4746  |   0.0436 |\n",
    "| Number of people | 2,970,733  | 2,926,441 | 268,304 |"
   ]
  },
  {
   "cell_type": "markdown",
   "id": "ae884372-9bf4-44aa-b6d6-fbce1ae18432",
   "metadata": {
    "deletable": false,
    "editable": false,
    "tags": []
   },
   "source": [
    "**Question 1.** Suppose we pick a simple random sample of 20 of the 6,165,478 Pennsylvania (PA) voters. In the sample, let $N_T$ be the number of Trump voters, $N_C$ the number of Clinton voters, and $N_O$ the number of \"other\" voters. $N_T$, $N_C$, and $N_O$ are random: they depend on how the sample comes out. In the Foundations of Data Science course we called such quantities \"statistics\".\n",
    "\n",
    "Pick the correct option: \n",
    "\n",
    "$N_T + N_C + N_O$ is equal to\n",
    "\n",
    "(a) 3\n",
    "\n",
    "(b) 20\n",
    "\n",
    "(c) 6,165,478\n",
    "\n",
    "(d) a random quantity\n",
    "\n",
    "**Note:** If your answer is (a), put  \n",
    "\n",
    "```\n",
    "ans_q1 = 'a'\n",
    "```\n",
    "\n",
    "for the purpose of grading."
   ]
  },
  {
   "cell_type": "code",
   "execution_count": null,
   "id": "7cddaf9e-18c2-402c-95d7-ce3b3b0a95c2",
   "metadata": {
    "tags": []
   },
   "outputs": [],
   "source": [
    "ans_q1 = ..."
   ]
  },
  {
   "cell_type": "code",
   "execution_count": null,
   "id": "1b4d1659",
   "metadata": {
    "deletable": false,
    "editable": false
   },
   "outputs": [],
   "source": [
    "grader.check(\"q1\")"
   ]
  },
  {
   "cell_type": "markdown",
   "id": "c74d82db-6de2-49e1-b42d-e31f508999be",
   "metadata": {
    "deletable": false,
    "editable": false,
    "tags": []
   },
   "source": [
    "**Question 2.** Pick the correct option.\n",
    "\n",
    "A simple random sample of 20 PA voters is like a sample drawn at random without replacement, because\n",
    "\n",
    "(a) that's the definition of \"simple random sample\"\n",
    "\n",
    "(b) there are only 3 categories of voters, which is small in comparison to 20\n",
    "\n",
    "(c) there are only 20 people in the sample, which is small in comparison to the total number of PA voters\n",
    "\n",
    "(d) all PA voters are equally likely to be selected\n",
    "\n",
    "**Note:** If your answer is (a), put  \n",
    "\n",
    "```\n",
    "ans_q2 = 'a'\n",
    "``` \n",
    "\n",
    "for the purpose of grading. "
   ]
  },
  {
   "cell_type": "code",
   "execution_count": null,
   "id": "587e8b0a-e8bb-4d6e-addf-f9877bb6b37d",
   "metadata": {
    "tags": []
   },
   "outputs": [],
   "source": [
    "ans_q2 = ..."
   ]
  },
  {
   "cell_type": "code",
   "execution_count": null,
   "id": "2c2e0b8e",
   "metadata": {
    "deletable": false,
    "editable": false
   },
   "outputs": [],
   "source": [
    "grader.check(\"q2\")"
   ]
  },
  {
   "cell_type": "markdown",
   "id": "a939eb3f-7fa3-4585-80ce-838ea48bf102",
   "metadata": {},
   "source": [
    "# Multinomial Probability\n",
    "\n",
    "Earlier this semester we learned that the binomial distribution allows one to compute the probability of obtaining a given number of binary outcomes. For example, it can be used to compute the probability of getting 6 heads out of 10 coin flips. The flip of a coin is a binary outcome because it only has two possible outcomes: heads and tails. \n",
    "\n",
    "The multinomial distribution is used to compute the probabilities in situations in which there are more than two possible outcomes. For example, suppose that two students played numerous games of [rock, paper, scissors](https://youtu.be/ND4fd6yScBM) and it was determined that the probability Student A would win is 0.40, the probability Student B would win is 0.35, and the probability the game would end in a draw is 0.25. The multinomial distribution can be used to answer questions such as: \n",
    "\n",
    "> *\"If these two students played 10 games, what is the probability that Student A would win 5 games, Student B would win 3 games, and the remaining 2 games would end in a draw?\"* \n",
    "\n",
    "The following formula gives the probability of obtaining a specific set of outcomes when there are three possible outcomes for each event \n",
    "\n",
    "$$p=\\frac{n!}{n_1! \\cdot n_2! \\cdot n_3!}p_1^{n_1} \\cdot p_2^{n_2} \\cdot p_3^{n_3}$$\n",
    "\n",
    "where\n",
    "\n",
    "- $p$ is the probability,\n",
    "\n",
    "- $n$ is the total number of events,\n",
    "\n",
    "- $n_1$ is the number of times outcome 1 occurs,\n",
    "\n",
    "- $n_2$ is the number of times outcome 2 occurs,\n",
    "\n",
    "- $n_3$ is the number of times outcome 3 occurs,\n",
    "\n",
    "- $p_1$ is the probability of outcome 1\n",
    "\n",
    "- $p_2$ is the probability of outcome 2, \n",
    "\n",
    "- and $p_3$ is the probability of outcome 3."
   ]
  },
  {
   "cell_type": "markdown",
   "id": "66592e66-5a93-4d1e-81d3-1d08e9e1c02f",
   "metadata": {
    "deletable": false,
    "editable": false,
    "tags": []
   },
   "source": [
    "**Question 3.** Suppose that two students played 10 games of rock, paper, scissors and it was determined that the probability Student A would win is 0.40, the probability Student B would win is 0.35, and the probability the game would end in a draw is 0.25. If these two students played 10 games, Student A would win 5 games, Student B would win 3 games, and the remaining 2 games would end in a draw. Assign the correct value to each variable listed in the cell below.**Question 2.** Pick the correct option."
   ]
  },
  {
   "cell_type": "code",
   "execution_count": null,
   "id": "455161f2-593e-467a-8c43-5ac5c53d405f",
   "metadata": {
    "tags": []
   },
   "outputs": [],
   "source": [
    "# Number of games\n",
    "n = ...\n",
    "\n",
    "# Number of games won by Student A\n",
    "n1 = ...\n",
    "\n",
    "# Number of games won by Student B\n",
    "n2 = ...\n",
    "\n",
    "# Number of games drawn\n",
    "n3 = ...\n",
    "\n",
    "# Probability Stundet A wins\n",
    "p1 = ...\n",
    "\n",
    "# Probability Student B wins\n",
    "p2 = ...\n",
    "\n",
    "# Probability of a draw\n",
    "p3 = ..."
   ]
  },
  {
   "cell_type": "code",
   "execution_count": null,
   "id": "294f7e53",
   "metadata": {
    "deletable": false,
    "editable": false
   },
   "outputs": [],
   "source": [
    "grader.check(\"q3\")"
   ]
  },
  {
   "cell_type": "markdown",
   "id": "273e4827-75f6-4a6b-b7b3-bdc8f2de19e1",
   "metadata": {
    "deletable": false,
    "editable": false,
    "tags": []
   },
   "source": [
    "**Question 4.** What is the probability that Student A would win 5 games, Student B wins 3 games, and the remaining 2 games end in a draw?\n",
    "\n",
    "**Hint:** Le's use the `special.factorial` function to compute factorial products."
   ]
  },
  {
   "cell_type": "code",
   "execution_count": null,
   "id": "59c1ba69-20c7-4502-af36-c74b730541fb",
   "metadata": {
    "tags": []
   },
   "outputs": [],
   "source": [
    "ans_q4 = special.factorial(...)/ \\\n",
    "(special.factorial(...) * special.factorial(...)*special.factorial(n3)) \\ \n",
    "* p1**n1 * p2**n2 * p3**n3\n",
    "ans_q4"
   ]
  },
  {
   "cell_type": "code",
   "execution_count": null,
   "id": "889c9a0f",
   "metadata": {
    "deletable": false,
    "editable": false
   },
   "outputs": [],
   "source": [
    "grader.check(\"q4\")"
   ]
  },
  {
   "cell_type": "markdown",
   "id": "804312e4-f669-42da-86ec-fb7dfb4e5ef5",
   "metadata": {},
   "source": [
    "For the sample defined in **Question 1.**, the probability that the sample contains $t$ Trump voters, $c$ Clinton voters and $o$ \"other\" voters is denoted by $P(N_T = t, N_C = c, N_O = o)$, where $t$, $c$, and $o$ can be any three non-negative integers that add up to 20 (the number in the simple random sample). "
   ]
  },
  {
   "cell_type": "markdown",
   "id": "099a7867-ea41-42f8-99b6-4618a961ecf6",
   "metadata": {
    "deletable": false,
    "editable": false,
    "tags": []
   },
   "source": [
    "<!-- BEGIN QUESTION -->\n",
    "\n",
    "**Question 5.**  Define a function `prob_sample_counts` that takes any three non-negative integers $t$, $c$, and $o$, and returns $P(N_T = t, N_C = c, N_O = o)$. \n",
    "\n",
    "**Hints:**\n",
    "\n",
    "- The probability is 0 for some choices of the arguments, and your function should return 0 in those cases. For example, the number of sampled voters can't be negative.\n",
    "\n",
    "- Remember that **Question 2.** implies you can use results for sampling with replacement."
   ]
  },
  {
   "cell_type": "code",
   "execution_count": null,
   "id": "b4898129-bb2f-478f-ad69-0c6af1c5161f",
   "metadata": {
    "tags": []
   },
   "outputs": [],
   "source": [
    "def prob_sample_counts(t, c, o):\n",
    "    \"\"\"\n",
    "    Input\n",
    "    -----\n",
    "    t: number of votes for Trump\n",
    "    c: number of votes for Clinton\n",
    "    o: number of votes for Other\n",
    "    \n",
    "    Return\n",
    "    ------\n",
    "    The probability of getting the sample t, c, o\n",
    "    \"\"\"\n",
    "    n = ...\n",
    "    n1 = t\n",
    "    n2 = c\n",
    "    n3 = o\n",
    "    p1 = 0.4818\n",
    "    p2 = 0.4746\n",
    "    p3 = 0.0436\n",
    "    return special.factorial(n)/(special.factorial(n1)*special.factorial(n2)*special.factorial(n3)) * p1**n1 * p2**n2 * p3**n3\n",
    "    "
   ]
  },
  {
   "cell_type": "markdown",
   "id": "94dd103c-bbbc-40c4-b317-26f1d21b2b33",
   "metadata": {
    "deletable": false,
    "editable": false,
    "tags": []
   },
   "source": [
    "<!-- END QUESTION -->\n",
    "\n",
    "<!-- BEGIN QUESTION -->\n",
    "\n",
    "**Question 6.** Check that your function determines a probability distribution by summing all the terms. For this test we will assume that the number of voters in total is 10.\n",
    "\n",
    "**Hints:** \n",
    "\n",
    "- You will need to iterate through certain values of $c$ and $t$ to compute the sum of all probabilities.\n",
    "\n",
    "- To see how you can iterate through multiple values (i.e. $c$ and $t$) click [here](https://www.w3schools.com/python/gloss_python_for_nested.asp).\n",
    "\n",
    "**Note:** Due to floating point errors you may see `1.0000000000000004`. We will ignore this amount of loss of significance for the purpose of this assignment."
   ]
  },
  {
   "cell_type": "code",
   "execution_count": null,
   "id": "0919e42f-7d2f-458d-b3f6-4671ffafaeb1",
   "metadata": {
    "tags": []
   },
   "outputs": [],
   "source": [
    "ans_q6 = 0\n",
    "for c in range(0, ...):\n",
    "    for t in range(0, ...):\n",
    "        if (c + t <= ...):\n",
    "            o = ... - c - t\n",
    "            ans_q6 = ans_q6 + prob_sample_counts(t, c, o)\n",
    "    \n",
    "ans_q6"
   ]
  },
  {
   "cell_type": "markdown",
   "id": "c7a705e9-30a5-4d2b-a722-d020a2eb42c4",
   "metadata": {
    "deletable": false,
    "editable": false,
    "tags": []
   },
   "source": [
    "<!-- END QUESTION -->\n",
    "\n",
    "Let's use `prob_sample_counts` to find the chance that the sample consists of 11 Trump voters, 8 Clinton voters, and 1 *\"other\"* voter."
   ]
  },
  {
   "cell_type": "code",
   "execution_count": null,
   "id": "eba372cc-3cb0-42d4-aadd-33dfc47db832",
   "metadata": {
    "tags": []
   },
   "outputs": [],
   "source": [
    "prob_sample_counts(t=11, c=8, o=1)"
   ]
  },
  {
   "cell_type": "markdown",
   "id": "9d8e7c6e-7bf8-47dc-8324-98cf7bec59df",
   "metadata": {
    "tags": []
   },
   "source": [
    "## Election Polling\n",
    "\n",
    "Political polling is a type of public opinion polling that can represent a snapshot of public opinion at the particular moment in time. Voter opinion shifts from week to week, even day to day, as candidates battle it out on the campaign trail.\n",
    "\n",
    "Polls usually start with a \"horse-race\" question, where respondents are asked whom they would vote for in a head-to-head race if the election were tomorrow: Candidate A or Candidate B. The survey begins with this question so that the respondent is not influenced by any of the other questions asked in the survey. Some other questions are asked to help assess how likely is it that the respondent will vote. For example, questions about age, education, and sex are asked in order to adjust the findings in case one group appears overly represented in the sample. To contact people, pollsters typically use [random digit dialing](https://en.wikipedia.org/wiki/Random_digit_dialing)."
   ]
  },
  {
   "cell_type": "markdown",
   "id": "2b5bec64-38ab-4c9b-a6a1-1769ec289863",
   "metadata": {
    "tags": []
   },
   "source": [
    "If we're trying to predict the results of the Clinton vs. Trump presidential race, what is the population of interest? "
   ]
  },
  {
   "cell_type": "markdown",
   "id": "4c3beb92-816f-4555-81d3-18b067b000cf",
   "metadata": {
    "tags": []
   },
   "source": [
    "All eligible voters in the USA are the population of interest. In this presidential race, it means people who satisfy the following requirements (according to [usa.gov](https://www.usa.gov/who-can-vote)):\n",
    "\n",
    "- Are a U.S. citizen (some areas allow non-citizens to vote in local elections only) \n",
    "\n",
    "- Meet your state’s residency requirements \n",
    "\n",
    "- Are 18 years old on or before Election Day (some areas allow 16 year olds to vote in local elections only) \n",
    "\n",
    "- Are registered to vote by your state’s voter registration deadline."
   ]
  },
  {
   "cell_type": "markdown",
   "id": "592c0d1a-24dd-487f-85b9-92cf216a0ddd",
   "metadata": {},
   "source": [
    "## How might the sampling frame differ from the population?\n",
    "\n",
    "After the fact, many experts have studied the 2016 election results. For example, according to the American Association for Public Opinion Research (AAPOR), predictions made before the election were flawed for three key reasons:\n",
    "\n",
    "1. Those sampled were not representative of the voting population, e.g., some said that there was an over-representation of college graduates in some poll samples. \n",
    "\n",
    "1. Voters changed their preferences a few days before the election.\n",
    "\n",
    "1. Voters kept their support for Trump to themselves (hidden from the pollsters).\n",
    "\n",
    "In **Simulation Study of the Sampling Error** ,  \n",
    "\n",
    "- we will carry out a study of the sampling error when there is no bias. In other words, we will try to compute the chance that we get the election result wrong even if we collect our sample in a manner that is completely correct. In this case, any failure of our prediction is due entirely to random chance.\n",
    "\n",
    "In **Simulation Study of Response Bias**,\n",
    "\n",
    "- we will carry out a study of the sampling error when there is bias of the first type from the list above. In other words, we will try to compute the chance that we get the election result wrong if we have a small systematic bias. In this case, any failure of our prediction is due to a combination of random chance and our bias.\n",
    "\n",
    "**Note:** To learn more about sampling frames, sampling error and sampling bias click the link to [read  the transcript from a conversation I had with ChatGPT](https://chat.openai.com/share/2fb7089a-1e81-4de2-ae9e-2d148b20fed1)."
   ]
  },
  {
   "cell_type": "markdown",
   "id": "aaf716c5-1bad-4eaf-b543-4863056722f8",
   "metadata": {},
   "source": [
    "**Question 7.** Why can't we assess the impact of the other two biases (voters changing preference and voters hiding their preference)? Discuss this with a neighbor."
   ]
  },
  {
   "cell_type": "markdown",
   "id": "3b44d127-fed8-42d2-aa47-5d752f02b6d2",
   "metadata": {},
   "source": [
    "## How large was the sampling error?\n",
    "\n",
    "In some states the race was very close, and it may have been simply sampling error, i.e., random chance that the majority of the voters chosen for the sample voted for Clinton.\n",
    "\n",
    "A 2 or 3-point polling error in Trump’s favor (typical error historically) would likely be enough to tip the Electoral College to him.\n",
    "\n",
    "One year after the 2016 election, Nate Silver wrote in [**The Media Has A Probability Problem**](https://fivethirtyeight.com/features/the-media-has-a-probability-problem/) that \"the media’s demand for certainty -- and its lack of statistical rigor -- is a bad match for our complex world.\" FiveThirtyEight forecast that Clinton had about a 70 percent chance of winning.  \n",
    "\n",
    "We will first carry out a simulation study to assess the impact of the sampling error on the predictions.\n",
    "\n",
    "**Note:** To learn more about sampling frames, sampling error and sampling bias click the link to [read  the transcript from a conversation I had with ChatGPT](https://chat.openai.com/share/2fb7089a-1e81-4de2-ae9e-2d148b20fed1)."
   ]
  },
  {
   "cell_type": "markdown",
   "id": "b04fef58-aca9-45a9-9a8c-f4c7a32d5b36",
   "metadata": {},
   "source": [
    "## The Electoral College\n",
    "\n",
    "The US president is chosen by the Electoral College, not by the popular vote. Each state is allotted a certain number of electoral college votes, as a function of their population.\n",
    "Whomever wins in the state gets all of the electoral college votes for that state.\n",
    "\n",
    "There are 538 electoral college votes (hence the name of the Nate Silver's site, [FiveThirtyEight](https://abcnews.go.com/538)).\n",
    "\n",
    "Pollsters correctly predicted the election outcome in 46 of the 50 states. For these 46 states Trump received 231 and Clinton received 232 electoral college votes. The remaining 4 states accounted for a total of 75 votes, and whichever candidate received the majority of the electoral college votes in these states would win the election. \n",
    "\n",
    "These states were Florida, Michigan, Pennsylvania, and Wisconsin.\n",
    "\n",
    "|State |Electoral College Votes|\n",
    "| --- | --- |\n",
    "|Florida | 29 |\n",
    "|Michigan | 16 |\n",
    "|Pennsylvania | 20 |\n",
    "|Wisconsin | 10|\n",
    "\n",
    "For Donald Trump to win the election, he had to win either:\n",
    "\n",
    "* Florida + one (or more) other states\n",
    "* Michigan, Pennsylvania, and Wisconsin\n",
    "\n",
    "\n",
    "The electoral margins were very narrow in these four states, as seen below:\n",
    "\n",
    "\n",
    "|State | Trump |   Clinton | Total Voters |\n",
    "| --- | --- |  --- |  --- |\n",
    "|Florida | 49.02 | 47.82 | 9,419,886  | \n",
    "|Michigan | 47.50 | 47.27  |  4,799,284|\n",
    "|Pennsylvania | 48.18 | 47.46 |  6,165,478|\n",
    "|Wisconsin | 47.22 | 46.45  |  2,976,150|\n",
    "\n",
    "Those narrow electoral margins can make it hard to predict the outcome given the sample sizes that the polls used. "
   ]
  },
  {
   "cell_type": "markdown",
   "id": "5fea0658-0aa2-47aa-93cc-1c81d677e836",
   "metadata": {},
   "source": [
    "## Simulation Study of the Sampling Error\n",
    "\n",
    "Now that we know how people actually voted, we can carry out a simulation study that imitates the polling. Our ultimate goal in this problem is to understand the chance that we will incorrectly call the election for Hillary Clinton even if our sample was collected with absolutely no bias.\n",
    "\n",
    "For your convenience, the results of the vote in the four pivotal states is repeated below:\n",
    "\n",
    "|State | Trump |   Clinton | Total Voters |\n",
    "| --- | --- |  --- |  --- |\n",
    "|Florida | 49.02 | 47.82 | 9,419,886  | \n",
    "|Michigan | 47.50 | 47.27  |  4,799,284|\n",
    "|Pennsylvania | 48.18 | 47.46 |  6,165,478|\n",
    "|Wisconsin | 47.22 | 46.45  |  2,976,150|\n",
    "\n",
    "**Question 8.** Using the table above, create a function named `draw_state_sample(N, state)` returns the distribution of the number of `N` voters from the given state, based on the election results. The result is returned as a list, where the first element is the number of Trump votes, the second element is the number of Clinton votes, and the third is the number of Other votes.\n",
    "\n",
    "For example, `draw_state_sample(1500, \"florida\")` could return `[727, 692, 81]`. You may assume that the state name is given in all lower case.\n",
    "\n",
    "**Hint:** `np.random.multinomial` is used to to calculate the distribution of values.\n",
    "\n",
    "**Note:** Make sure that your function is working before you continue. You can check with your instructor."
   ]
  },
  {
   "cell_type": "code",
   "execution_count": null,
   "id": "e57b39d4-9e2f-4e33-a729-c8f4ba5641ed",
   "metadata": {
    "tags": []
   },
   "outputs": [],
   "source": [
    "states = {\n",
    "    \"florida\": np.array([49.02, 47.82, 3.16])/100,\n",
    "    \"michigan\": np.array([47.50, 47.27, 5.23])/100,\n",
    "    \"pennsylvania\": np.array([48.18, 47.46, 4.36])/100,\n",
    "    \"wisconsin\": np.array([47.22, 46.45, 6.33])/100\n",
    "}\n",
    "\n",
    "def draw_state_sample(N, state):  \n",
    "    \"\"\"\n",
    "    Input\n",
    "    -----\n",
    "    N: The number of voters from the state\n",
    "    state: The state Florida, Michigan, Pennsylvania, or Wisconsin\n",
    "    \n",
    "    Return\n",
    "    ------\n",
    "    Returns a list where the first item is the number of Trump votes, the \n",
    "    second item is the number of Clinton votes, and the third item is the number\n",
    "    of votes for other.\n",
    "    \"\"\"\n",
    "    state_values = states[state.lower()]\n",
    "    simulated_votes = np.random.multinomial(N, state_values)\n",
    "    return simulated_votes\n",
    "\n",
    "draw_state_sample(1500, 'florida')"
   ]
  },
  {
   "cell_type": "markdown",
   "id": "33c99acd-c6e5-47c8-b3f0-0cf7de4a619f",
   "metadata": {
    "deletable": false,
    "editable": false
   },
   "source": [
    "**Question 9.** Now, create a function named `trump_advantage` that takes in a sample of votes (like the one returned by `draw_state_sample`) and returns the difference in the proportion of votes between Trump and Clinton. \n",
    "\n",
    "For example `trump_advantage([100, 60, 40])` would return `0.2`, since Trump had 50% of the votes in this sample and Clinton had 30%.\n",
    "\n",
    "**Note:** Make sure that your function is working before you continue. You can check with your instructor."
   ]
  },
  {
   "cell_type": "code",
   "execution_count": null,
   "id": "5f0cb354-b2d8-4391-b66c-60c9cae45312",
   "metadata": {
    "tags": []
   },
   "outputs": [],
   "source": [
    "def trump_advantage(voter_sample):\n",
    "    \"\"\"\n",
    "    Input\n",
    "    -----\n",
    "    voter_sample: The list from the draw_state_sample function.\n",
    "    \n",
    "    Return\n",
    "    ------\n",
    "    Returns the difference in the proportion of votes between Trump and Clinton.\n",
    "    \"\"\"\n",
    "    total = sum(...)\n",
    "    return (voter_sample[...] - voter_sample[..])/total\n",
    "    \n",
    "trump_advantage([100, 60, 40])"
   ]
  },
  {
   "cell_type": "markdown",
   "id": "9a85db3a-7167-4875-810e-0e2493b427cb",
   "metadata": {},
   "source": [
    "Now let's simulate Trump's advantage across 100,000 simple random samples of 1500 voters for the state of Pennsylvania and store the results of each simulation in a list called `simulations`."
   ]
  },
  {
   "cell_type": "code",
   "execution_count": null,
   "id": "6a2928b2-28b0-4f8c-bc7b-584f809d6fb4",
   "metadata": {
    "tags": []
   },
   "outputs": [],
   "source": [
    "simulations = []\n",
    "for i in range(100000):\n",
    "    simulations.append(trump_advantage(draw_state_sample(1500, \"Pennsylvania\")))"
   ]
  },
  {
   "cell_type": "code",
   "execution_count": null,
   "id": "f5966997-d3f1-47cc-a17e-c00dd5fcbae4",
   "metadata": {
    "tags": []
   },
   "outputs": [],
   "source": [
    "simulations[:10]"
   ]
  },
  {
   "cell_type": "markdown",
   "id": "46f721fc-e0ac-4b26-b7fd-23025869d355",
   "metadata": {},
   "source": [
    "Make a histogram of the sampling distribution of Trump's proportion advantage in Pennsylvania."
   ]
  },
  {
   "cell_type": "code",
   "execution_count": null,
   "id": "1e4a0440-feaf-4096-8eb2-3916546aead7",
   "metadata": {
    "tags": []
   },
   "outputs": [],
   "source": [
    "min_val, max_val = min(simulations), max(simulations)\n",
    "\n",
    "bins = np.arange(-0.1, 0.15, .01)\n",
    "plt.hist(simulations, bins=bins, edgecolor='white', density=True)\n",
    "\n",
    "plt.title(\"Trump Advantage %\")\n",
    "plt.xlabel(\"Percent of Advantage\")\n",
    "\n",
    "plt.show();"
   ]
  },
  {
   "cell_type": "markdown",
   "id": "3ccdfe2a-a80e-4478-99ab-ff93cabcdcc2",
   "metadata": {},
   "source": [
    "**Question 10.** What does the histogram reveal about Trump's advantage based on our simulation? Discuss your thoughts with a neighbor."
   ]
  },
  {
   "cell_type": "markdown",
   "id": "aab34b70-cd7f-46f4-854e-d670a14f9227",
   "metadata": {},
   "source": [
    "**Question 11.** Now write a function named `trump_wins(N)` that creates a sample of $N$ voters for each of the four crucial states (Florida, Michigan, Pennsylvania, and Wisconsin) and returns 1 if Trump is predicted to win based on these samples and 0 if Trump is predicted to lose.\n",
    "\n",
    "Recall that for Trump to win the election, he must either:\n",
    "\n",
    "- Win the state of Florida and 1 or more other states\n",
    "\n",
    "- Win Michigan, Pennsylvania, and Wisconsin\n",
    "\n",
    "**Hint:** It would be helpful to use your `trump_advantage` function to complete this part of the assignment."
   ]
  },
  {
   "cell_type": "code",
   "execution_count": null,
   "id": "dca8a7b4-271e-4faf-931a-f6b2ec1d89d4",
   "metadata": {
    "tags": []
   },
   "outputs": [],
   "source": [
    "def trump_wins(N):\n",
    "    \"\"\"\n",
    "    Input\n",
    "    -----\n",
    "    N: A sample of voters from Florida, Michigan, Pennsylvania, and Wisconsin.\n",
    "    \n",
    "    Return\n",
    "    ------\n",
    "    Returns 1 if Trump is predicted to win based on these samples and \n",
    "    0 if Trump is predicted to lose.\n",
    "    \"\"\"\n",
    "    wins = []\n",
    "    \n",
    "    for name, state_values in states.items():\n",
    "        advantage = trump_advantage(draw_state_sample(N, name))\n",
    "        if advantage > 0:\n",
    "            wins.append(name)\n",
    "    if len(wins) > 1 and 'florida' in wins:\n",
    "        return 1\n",
    "    elif len(wins) > 2:\n",
    "        return 1\n",
    "    return 0\n",
    "\n",
    "trump_wins(10000)"
   ]
  },
  {
   "cell_type": "markdown",
   "id": "525ecad1-f869-4c3c-bd69-573c77695183",
   "metadata": {},
   "source": [
    "**Question 12.** If we repeat 100,000 simulations of the election (i.e. we call `trump_wins(1500)` 100,000 times) what proportion of these simulations predict a Trump victory?\n",
    "\n",
    "**Note:** This number represents the percent chance that a given sample will correctly predict Trump's victory even if the sample was collected with absolutely no bias."
   ]
  },
  {
   "cell_type": "code",
   "execution_count": null,
   "id": "85564d16-40c6-453e-8cba-45cb7b3aab24",
   "metadata": {
    "tags": []
   },
   "outputs": [],
   "source": [
    "wins = np.array([])\n",
    "\n",
    "for _ in range(100000):\n",
    "    outcome = trump_wins(1500)\n",
    "    wins = np.append(wins, outcome)\n",
    "\n",
    "proportion_trump_wins = np.average(wins)\n",
    "proportion_trump_wins"
   ]
  },
  {
   "cell_type": "markdown",
   "id": "53652780-5913-4a3b-93a4-96546f4850ef",
   "metadata": {},
   "source": [
    "We have just completed our study of sampling error, and found how our predictions might look if there was no bias in our sampling process. Essentially, we assumed that the people surveyed didn't change their minds, didn't hide who they voted for, and were representative of those who voted on election day."
   ]
  },
  {
   "cell_type": "markdown",
   "id": "dffa3cc9-5beb-4432-b276-df67638cc77b",
   "metadata": {},
   "source": [
    "## Simulation Study of Selection Bias\n",
    "\n",
    "According to an article by Grotenhuis, Subramanian, Nieuwenhuis, Pelzer and Eisinga entitled [Better poll sampling would have cast more doubt on the potential for Hillary Clinton to win the 2016 election](https://blogs.lse.ac.uk/usappblog/2018/02/01/better-poll-sampling-would-have-cast-more-doubt-on-the-potential-for-hillary-clinton-to-win-the-2016-election/#Author):\n",
    "\n",
    "> \"In a perfect world, polls sample from the population of voters, who would state their political preference perfectly clearly and then vote accordingly.\"\n",
    "\n",
    "That's the simulation study that we just performed. \n",
    "\n",
    "It's difficult to control for every source of selection bias. And, it's not possible to control for some of the other sources of bias. Next we investigate the effect of small sampling bias on the polling results in these four battleground states. Throughout this problem, we'll examine the impacts of a 0.5 percent bias in favor of Clinton in each state. Such a bias has been suggested because highly educated voters tend to be more willing to participate in polls."
   ]
  },
  {
   "cell_type": "markdown",
   "id": "fc8a1657-a526-432f-b3e9-dcbbe3ceb667",
   "metadata": {},
   "source": [
    "**Question 13.** In Pennsylvania, Clinton received 47.46 percent of the votes and Trump 48.18 percent. Increase the population of Clinton voters and correspondingly decrease the percent of Trump voters by the `percentage_point_bias` of 0.5. Then simulate Trump's advantage across 100,000 simple random samples of 1500 voters for the state of **Pennsylvania** and store the results of each simulation in a list called `biased_simulations`."
   ]
  },
  {
   "cell_type": "code",
   "execution_count": null,
   "id": "ae2f6aeb-b349-4abf-bcee-2dac0a72eeb6",
   "metadata": {
    "tags": []
   },
   "outputs": [],
   "source": [
    "percentage_point_bias = 0.5\n",
    "\n",
    "states_biased = {\n",
    "        \"florida\": np.array([49.02 - percentage_point_bias, 47.82 + percentage_point_bias, 3.16])/100,\n",
    "        \"michigan\": np.array([47.50 - percentage_point_bias, 47.27 + percentage_point_bias, 5.23])/100,\n",
    "        \"pennsylvania\": np.array([48.18 - percentage_point_bias, 47.46 + percentage_point_bias, 4.36])/100,\n",
    "        \"wisconsin\": np.array([47.22 - percentage_point_bias, 46.45 + percentage_point_bias, 6.33])/100\n",
    "}\n",
    "\n",
    "def draw_biased_state_sample(N, state):\n",
    "    \"\"\"\n",
    "    Input\n",
    "    -----\n",
    "    N: A sample of voters from Florida, Michigan, Pennsylvania, and Wisconsin.\n",
    "    state: Florida, Michigan, Pennsylvania, and Wisconsin.\n",
    "    \n",
    "    \n",
    "    Return\n",
    "    ------\n",
    "    Returns a list where the first item is the number of Trump votes, the \n",
    "    second item is the number of Clinton votes, and the third item is the number\n",
    "    of votes for other.\n",
    "    \"\"\"\n",
    "    state_values = states_biased[state.lower()]\n",
    "    simulated_votes = np.random.multinomial(N, state_values)\n",
    "    return simulated_votes\n",
    "\n",
    "draw_biased_state_sample(1500, 'florida')"
   ]
  },
  {
   "cell_type": "markdown",
   "id": "91d2ce4a-f360-493d-a2e8-8b3ef4a62d81",
   "metadata": {},
   "source": [
    "Now let's simulate Trump's advantage across 100,000 simple random samples of 1500 voters for the state of Pennsylvania using the biased proportions and store the results of each simulation in a list called `biased_simulations`."
   ]
  },
  {
   "cell_type": "code",
   "execution_count": null,
   "id": "c1025f6c-f6a3-4254-a337-d8a6083414dd",
   "metadata": {
    "tags": []
   },
   "outputs": [],
   "source": [
    "biased_simulations = []\n",
    "for i in range(100000):\n",
    "    biased_simulations.append(trump_advantage(draw_biased_state_sample(1500, \"Pennsylvania\")))"
   ]
  },
  {
   "cell_type": "code",
   "execution_count": null,
   "id": "1fbae3c4-90d1-4de1-81c8-76f1b9a3448d",
   "metadata": {
    "tags": []
   },
   "outputs": [],
   "source": [
    "biased_simulations[:10]"
   ]
  },
  {
   "cell_type": "markdown",
   "id": "aa544bcd-ea8d-46d1-983b-787db5273d78",
   "metadata": {},
   "source": [
    "Make a histogram of the sampling distribution of Trump's proportion advantage in Pennsylvania."
   ]
  },
  {
   "cell_type": "code",
   "execution_count": null,
   "id": "e4958f0d-63b4-4fae-9e42-bce8539523f8",
   "metadata": {
    "tags": []
   },
   "outputs": [],
   "source": [
    "min_val, max_val = min(biased_simulations), max(biased_simulations)\n",
    "\n",
    "bins = np.arange(-0.1, 0.15, .01)\n",
    "plt.hist(biased_simulations, bins=bins, edgecolor='white', density=True)\n",
    "\n",
    "plt.title(\"Trump Advantage Biased %\")\n",
    "plt.xlabel(\"Percent of Advantage\")\n",
    "\n",
    "plt.show();"
   ]
  },
  {
   "cell_type": "markdown",
   "id": "f4f579d7-84b8-4760-89eb-fdd8b8ba82fc",
   "metadata": {},
   "source": [
    "**Question 14.** What does the histogram reveal about Trump's advantage based on our simulation? Discuss your thoughts with a neighbor."
   ]
  },
  {
   "cell_type": "markdown",
   "id": "d82de3a6-2340-4414-9e64-e8f730937d0b",
   "metadata": {},
   "source": [
    "**Question 15.** Write 2-3 sentences comparing the histograms you created (Trump Advantage % and Trump Advantage Biased %). Discuss your thoughts with a neighbor."
   ]
  },
  {
   "cell_type": "markdown",
   "id": "5ee8cabb-96cc-4711-a92b-4a6a2585278a",
   "metadata": {},
   "source": [
    "**Question 16.** Now write a function named `trump__biased_wins(N)` that creates a sample of $N$ voters for each of the four crucial states (Florida, Michigan, Pennsylvania, and Wisconsin) and returns 1 if Trump is predicted to win based on these samples and 0 if Trump is predicted to lose.\n",
    "\n",
    "Recall that for Trump to win the election, he must either:\n",
    "\n",
    "- Win the state of Florida and 1 or more other states\n",
    "\n",
    "- Win Michigan, Pennsylvania, and Wisconsin\n",
    "\n",
    "**Hint:** It would be helpful to use your `trump_advantage` function to complete this part of the assignment."
   ]
  },
  {
   "cell_type": "code",
   "execution_count": null,
   "id": "cbc8998b-d750-450d-a903-169b3b982ef0",
   "metadata": {
    "tags": []
   },
   "outputs": [],
   "source": [
    "def trump_wins_biased(N):\n",
    "    \"\"\"\n",
    "    Input\n",
    "    -----\n",
    "    N: A sample of voters from Florida, Michigan, Pennsylvania, and Wisconsin.\n",
    "    \n",
    "    Return\n",
    "    ------\n",
    "    Returns 1 if Trump is predicted to win based on these samples and \n",
    "    0 if Trump is predicted to lose.\n",
    "    \"\"\"\n",
    "    wins_biased = []\n",
    "    \n",
    "    for name, state_values in states_biased.items():\n",
    "        advantage = trump_advantage(draw_biased_state_sample(N, name))\n",
    "        if advantage > 0:\n",
    "            wins_biased.append(name)\n",
    "    if len(wins_biased) > 1 and 'florida' in wins_biased:\n",
    "        return 1\n",
    "    elif len(wins_biased) > 2:\n",
    "        return 1\n",
    "    return 0\n",
    "\n",
    "trump_wins_biased(10000)"
   ]
  },
  {
   "cell_type": "markdown",
   "id": "6a3c7bff-ff36-42ab-98ed-5e34f2c060f8",
   "metadata": {},
   "source": [
    "Now perform 100,000 simulations of all four states and return the proportion of these simulations that result in a Trump victory. This is the same fraction that you computed in **Question 12**, but now using your biased samples.\n",
    "\n",
    "**Note:** This number represents the chance that a sample biased 1% in Hillary Clinton's favor will correctly predict Trump's victory. You should observe that the chance is significantly lower than with an unbiased sample (i.e. your answer in **Question 12**)."
   ]
  },
  {
   "cell_type": "code",
   "execution_count": null,
   "id": "daa4c9f3-a810-490d-bb88-c19d12dcd93b",
   "metadata": {
    "tags": []
   },
   "outputs": [],
   "source": [
    "wins = np.array([])\n",
    "\n",
    "for _ in range(100000):\n",
    "    outcome = trump_wins_biased(1500)\n",
    "    wins = np.append(wins, outcome)\n",
    "\n",
    "proportion_trump_wins_biased = np.average(wins)\n",
    "proportion_trump_wins_biased"
   ]
  },
  {
   "cell_type": "markdown",
   "id": "688d8cec-730c-40bb-b2eb-ce615bd2f717",
   "metadata": {},
   "source": [
    "## Would increasing the sample size have helped?\n",
    "\n",
    "Try a sample size of 5,000 and run 100,000 simulations of a sample with replacement. What proportion of the 100,000 times is Trump predicted to win the election in the unbiased setting? In the biased setting?\n",
    "\n",
    "Save your answers as `high_sample_size_unbiased_proportion_trump` and `high_sample_size_biased_proportion_trump`."
   ]
  },
  {
   "cell_type": "code",
   "execution_count": null,
   "id": "99ca71e7-51ca-43a7-9038-a7a599cdd9fd",
   "metadata": {
    "tags": []
   },
   "outputs": [],
   "source": [
    "high_sample_size_unbiased_proportion_trump = np.average(np.array([trump_wins(5000) for i in range(100000)]))\n",
    "high_sample_size_biased_proportion_trump = np.average(np.array([trump_wins_biased(5000) for i in range(100000)]))\n",
    "print('The simulated probability of Trump winning the election (unbiased with 5000 sampled voters):', high_sample_size_unbiased_proportion_trump)\n",
    "print('The simulated probability of Trump winning the election (biased with 5000 sampled voters):', high_sample_size_biased_proportion_trump)"
   ]
  },
  {
   "cell_type": "markdown",
   "id": "22d9b80b-3abe-4e57-a4c7-257db7d1efac",
   "metadata": {},
   "source": [
    "**Question 17.** What do your observations from the previous question say about the impact of sample size on the sampling error and on the bias? Discuss your thought with a neighbor."
   ]
  },
  {
   "cell_type": "markdown",
   "id": "1cd1fe02",
   "metadata": {
    "deletable": false,
    "editable": false
   },
   "source": [
    "## Submission\n",
    "\n",
    "Make sure you have run all cells in your notebook in order before running the cell below, so that all images/graphs appear in the output. The cell below will generate a zip file for you to submit. **Please save before exporting!**\n",
    "\n",
    "When done exporting, download the .zip file by `SHIFT`-clicking on the file name and selecting **Save Link As**. Or, find the .zip file in the left side of the screen and right-click and select **Download**."
   ]
  },
  {
   "cell_type": "code",
   "execution_count": null,
   "id": "df6418d8",
   "metadata": {
    "deletable": false,
    "editable": false
   },
   "outputs": [],
   "source": [
    "# Save your notebook first, then run this cell to export your submission.\n",
    "grader.export(pdf=False)"
   ]
  },
  {
   "cell_type": "markdown",
   "id": "04a76f07",
   "metadata": {},
   "source": [
    " "
   ]
  }
 ],
 "metadata": {
  "kernelspec": {
   "display_name": "DSC201",
   "language": "python",
   "name": "dsc201"
  },
  "language_info": {
   "codemirror_mode": {
    "name": "ipython",
    "version": 3
   },
   "file_extension": ".py",
   "mimetype": "text/x-python",
   "name": "python",
   "nbconvert_exporter": "python",
   "pygments_lexer": "ipython3",
   "version": "3.11.0"
  },
  "otter": {
   "OK_FORMAT": true,
   "tests": {
    "q1": {
     "name": "q1",
     "points": null,
     "suites": [
      {
       "cases": [
        {
         "code": ">>> ans_q1 == 'b'\nTrue",
         "hidden": false,
         "locked": false
        }
       ],
       "scored": true,
       "setup": "",
       "teardown": "",
       "type": "doctest"
      }
     ]
    },
    "q2": {
     "name": "q2",
     "points": null,
     "suites": [
      {
       "cases": [
        {
         "code": ">>> ans_q2 == 'd'\nTrue",
         "hidden": false,
         "locked": false
        }
       ],
       "scored": true,
       "setup": "",
       "teardown": "",
       "type": "doctest"
      }
     ]
    },
    "q3": {
     "name": "q3",
     "points": null,
     "suites": [
      {
       "cases": [
        {
         "code": ">>> n == 10\nTrue",
         "hidden": false,
         "locked": false
        },
        {
         "code": ">>> n1 == 5\nTrue",
         "hidden": false,
         "locked": false
        },
        {
         "code": ">>> n2 == 3\nTrue",
         "hidden": false,
         "locked": false
        },
        {
         "code": ">>> n3 == 2\nTrue",
         "hidden": false,
         "locked": false
        },
        {
         "code": ">>> p1 == 0.4\nTrue",
         "hidden": false,
         "locked": false
        },
        {
         "code": ">>> p2 == 0.35\nTrue",
         "hidden": false,
         "locked": false
        },
        {
         "code": ">>> p3 == 0.25\nTrue",
         "hidden": false,
         "locked": false
        }
       ],
       "scored": true,
       "setup": "",
       "teardown": "",
       "type": "doctest"
      }
     ]
    },
    "q4": {
     "name": "q4",
     "points": null,
     "suites": [
      {
       "cases": [
        {
         "code": ">>> 0.06 < ans_q4 < 0.07\nTrue",
         "hidden": false,
         "locked": false
        }
       ],
       "scored": true,
       "setup": "",
       "teardown": "",
       "type": "doctest"
      }
     ]
    }
   }
  }
 },
 "nbformat": 4,
 "nbformat_minor": 5
}
