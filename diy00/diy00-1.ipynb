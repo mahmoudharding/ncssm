{
 "cells": [
  {
   "cell_type": "code",
   "execution_count": 2,
   "id": "f243b4e8-0709-438e-8985-e6643de6fe3d",
   "metadata": {
    "tags": []
   },
   "outputs": [],
   "source": [
    "from datascience import *"
   ]
  },
  {
   "cell_type": "code",
   "execution_count": 3,
   "id": "2b06359e-ddd8-4460-8f14-a4b9abc38419",
   "metadata": {
    "tags": []
   },
   "outputs": [],
   "source": [
    "hybrid = Table.read_table('data/hybrid.csv')"
   ]
  },
  {
   "cell_type": "code",
   "execution_count": 4,
   "id": "45062aa7-c1f1-4fbe-b854-4afcfaf9da5f",
   "metadata": {
    "tags": []
   },
   "outputs": [
    {
     "data": {
      "text/html": [
       "<table border=\"1\" class=\"dataframe\">\n",
       "    <thead>\n",
       "        <tr>\n",
       "            <th>vehicle</th> <th>year</th> <th>msrp</th> <th>acceleration</th> <th>mpg</th> <th>class</th>\n",
       "        </tr>\n",
       "    </thead>\n",
       "    <tbody>\n",
       "        <tr>\n",
       "            <td>Prius (1st Gen)</td> <td>1997</td> <td>24509.7</td> <td>7.46        </td> <td>41.26</td> <td>Compact   </td>\n",
       "        </tr>\n",
       "        <tr>\n",
       "            <td>Tino           </td> <td>2000</td> <td>35355  </td> <td>8.2         </td> <td>54.1 </td> <td>Compact   </td>\n",
       "        </tr>\n",
       "        <tr>\n",
       "            <td>Prius (2nd Gen)</td> <td>2000</td> <td>26832.2</td> <td>7.97        </td> <td>45.23</td> <td>Compact   </td>\n",
       "        </tr>\n",
       "        <tr>\n",
       "            <td>Insight        </td> <td>2000</td> <td>18936.4</td> <td>9.52        </td> <td>53   </td> <td>Two Seater</td>\n",
       "        </tr>\n",
       "        <tr>\n",
       "            <td>Civic (1st Gen)</td> <td>2001</td> <td>25833.4</td> <td>7.04        </td> <td>47.04</td> <td>Compact   </td>\n",
       "        </tr>\n",
       "        <tr>\n",
       "            <td>Insight        </td> <td>2001</td> <td>19036.7</td> <td>9.52        </td> <td>53   </td> <td>Two Seater</td>\n",
       "        </tr>\n",
       "        <tr>\n",
       "            <td>Insight        </td> <td>2002</td> <td>19137  </td> <td>9.71        </td> <td>53   </td> <td>Two Seater</td>\n",
       "        </tr>\n",
       "        <tr>\n",
       "            <td>Alphard        </td> <td>2003</td> <td>38084.8</td> <td>8.33        </td> <td>40.46</td> <td>Minivan   </td>\n",
       "        </tr>\n",
       "        <tr>\n",
       "            <td>Insight        </td> <td>2003</td> <td>19137  </td> <td>9.52        </td> <td>53   </td> <td>Two Seater</td>\n",
       "        </tr>\n",
       "        <tr>\n",
       "            <td>Civic          </td> <td>2003</td> <td>14071.9</td> <td>8.62        </td> <td>41   </td> <td>Compact   </td>\n",
       "        </tr>\n",
       "    </tbody>\n",
       "</table>\n",
       "<p>... (143 rows omitted)</p>"
      ],
      "text/plain": [
       "vehicle         | year | msrp    | acceleration | mpg   | class\n",
       "Prius (1st Gen) | 1997 | 24509.7 | 7.46         | 41.26 | Compact\n",
       "Tino            | 2000 | 35355   | 8.2          | 54.1  | Compact\n",
       "Prius (2nd Gen) | 2000 | 26832.2 | 7.97         | 45.23 | Compact\n",
       "Insight         | 2000 | 18936.4 | 9.52         | 53    | Two Seater\n",
       "Civic (1st Gen) | 2001 | 25833.4 | 7.04         | 47.04 | Compact\n",
       "Insight         | 2001 | 19036.7 | 9.52         | 53    | Two Seater\n",
       "Insight         | 2002 | 19137   | 9.71         | 53    | Two Seater\n",
       "Alphard         | 2003 | 38084.8 | 8.33         | 40.46 | Minivan\n",
       "Insight         | 2003 | 19137   | 9.52         | 53    | Two Seater\n",
       "Civic           | 2003 | 14071.9 | 8.62         | 41    | Compact\n",
       "... (143 rows omitted)"
      ]
     },
     "execution_count": 4,
     "metadata": {},
     "output_type": "execute_result"
    }
   ],
   "source": [
    "hybrid"
   ]
  },
  {
   "cell_type": "code",
   "execution_count": 5,
   "id": "cc1b8dd7-c4a0-4617-92e5-c2bc46f359ba",
   "metadata": {
    "tags": []
   },
   "outputs": [
    {
     "data": {
      "text/plain": [
       "6"
      ]
     },
     "execution_count": 5,
     "metadata": {},
     "output_type": "execute_result"
    }
   ],
   "source": [
    "hybrid.num_columns"
   ]
  },
  {
   "cell_type": "code",
   "execution_count": 6,
   "id": "42fe8387-4a96-4c48-ba0e-bb340fec880b",
   "metadata": {
    "tags": []
   },
   "outputs": [
    {
     "data": {
      "text/plain": [
       "array([1997, 2000, 2000, 2000, 2001, 2001, 2002, 2003, 2003, 2003, 2004,\n",
       "       2004, 2004, 2004, 2005, 2005, 2005, 2005, 2005, 2005, 2005, 2005,\n",
       "       2006, 2006, 2006, 2006, 2006, 2007, 2007, 2007, 2007, 2007, 2007,\n",
       "       2007, 2007, 2008, 2008, 2008, 2008, 2009, 2009, 2009, 2009, 2009,\n",
       "       2009, 2009, 2009, 2009, 2009, 2009, 2009, 2009, 2009, 2010, 2010,\n",
       "       2010, 2010, 2010, 2010, 2010, 2010, 2010, 2010, 2010, 2010, 2010,\n",
       "       2010, 2010, 2010, 2010, 2010, 2010, 2010, 2010, 2010, 2010, 2011,\n",
       "       2011, 2011, 2011, 2011, 2011, 2011, 2011, 2011, 2011, 2011, 2011,\n",
       "       2011, 2011, 2011, 2011, 2011, 2011, 2011, 2011, 2012, 2012, 2012,\n",
       "       2012, 2012, 2012, 2012, 2012, 2012, 2012, 2012, 2012, 2012, 2012,\n",
       "       2013, 2013, 2013, 2013, 2013, 2013, 2013, 2013, 2013, 2013, 2013,\n",
       "       2013, 2013, 2013, 2013, 2013, 2013, 2013, 2013, 2013, 2013, 2013,\n",
       "       2013, 2013, 2013, 2013, 2013, 2013, 2013, 2013, 2013, 2013, 2013,\n",
       "       2013, 2013, 2013, 2013, 2013, 2013, 2013, 2013, 2013, 2013])"
      ]
     },
     "execution_count": 6,
     "metadata": {},
     "output_type": "execute_result"
    }
   ],
   "source": [
    "hybrid.column('year')"
   ]
  },
  {
   "cell_type": "code",
   "execution_count": 7,
   "id": "a145bbcd-fc9b-44aa-8f1d-cf28757bf320",
   "metadata": {
    "tags": []
   },
   "outputs": [
    {
     "data": {
      "text/plain": [
       "array([1997, 2000, 2000, 2000, 2001, 2001, 2002, 2003, 2003, 2003, 2004,\n",
       "       2004, 2004, 2004, 2005, 2005, 2005, 2005, 2005, 2005, 2005, 2005,\n",
       "       2006, 2006, 2006, 2006, 2006, 2007, 2007, 2007, 2007, 2007, 2007,\n",
       "       2007, 2007, 2008, 2008, 2008, 2008, 2009, 2009, 2009, 2009, 2009,\n",
       "       2009, 2009, 2009, 2009, 2009, 2009, 2009, 2009, 2009, 2010, 2010,\n",
       "       2010, 2010, 2010, 2010, 2010, 2010, 2010, 2010, 2010, 2010, 2010,\n",
       "       2010, 2010, 2010, 2010, 2010, 2010, 2010, 2010, 2010, 2010, 2011,\n",
       "       2011, 2011, 2011, 2011, 2011, 2011, 2011, 2011, 2011, 2011, 2011,\n",
       "       2011, 2011, 2011, 2011, 2011, 2011, 2011, 2011, 2012, 2012, 2012,\n",
       "       2012, 2012, 2012, 2012, 2012, 2012, 2012, 2012, 2012, 2012, 2012,\n",
       "       2013, 2013, 2013, 2013, 2013, 2013, 2013, 2013, 2013, 2013, 2013,\n",
       "       2013, 2013, 2013, 2013, 2013, 2013, 2013, 2013, 2013, 2013, 2013,\n",
       "       2013, 2013, 2013, 2013, 2013, 2013, 2013, 2013, 2013, 2013, 2013,\n",
       "       2013, 2013, 2013, 2013, 2013, 2013, 2013, 2013, 2013, 2013])"
      ]
     },
     "execution_count": 7,
     "metadata": {},
     "output_type": "execute_result"
    }
   ],
   "source": [
    "hybrid.column(1)"
   ]
  },
  {
   "cell_type": "code",
   "execution_count": 8,
   "id": "b2e23233-103d-4d5a-82ad-06351f3d4da6",
   "metadata": {
    "tags": []
   },
   "outputs": [],
   "source": [
    "import numpy as np"
   ]
  },
  {
   "cell_type": "code",
   "execution_count": 9,
   "id": "faf74c13-d637-47dd-8d5a-e4d06537d42e",
   "metadata": {
    "tags": []
   },
   "outputs": [
    {
     "data": {
      "text/plain": [
       "2009.7189542483661"
      ]
     },
     "execution_count": 9,
     "metadata": {},
     "output_type": "execute_result"
    }
   ],
   "source": [
    "np.average(hybrid.column(1))"
   ]
  },
  {
   "cell_type": "code",
   "execution_count": 10,
   "id": "dfead47e-c344-430a-9c98-be9eca07982d",
   "metadata": {
    "tags": []
   },
   "outputs": [
    {
     "data": {
      "text/plain": [
       "118543.60000000001"
      ]
     },
     "execution_count": 10,
     "metadata": {},
     "output_type": "execute_result"
    }
   ],
   "source": [
    "np.max(hybrid.column('msrp'))"
   ]
  },
  {
   "cell_type": "code",
   "execution_count": 11,
   "id": "5ecf819c-811b-4058-91b6-46cb485b7cf7",
   "metadata": {
    "tags": []
   },
   "outputs": [
    {
     "data": {
      "text/html": [
       "<table border=\"1\" class=\"dataframe\">\n",
       "    <thead>\n",
       "        <tr>\n",
       "            <th>vehicle</th> <th>year</th> <th>msrp</th> <th>acceleration</th> <th>mpg</th> <th>class</th>\n",
       "        </tr>\n",
       "    </thead>\n",
       "    <tbody>\n",
       "        <tr>\n",
       "            <td>Lexus LS600h/hL</td> <td>2007</td> <td>118544 </td> <td>17.54       </td> <td>21   </td> <td>Midsize</td>\n",
       "        </tr>\n",
       "        <tr>\n",
       "            <td>ActiveHybrid 7 </td> <td>2010</td> <td>104300 </td> <td>20.41       </td> <td>22.11</td> <td>Large  </td>\n",
       "        </tr>\n",
       "        <tr>\n",
       "            <td>ActiveHybrid 7i</td> <td>2011</td> <td>102606 </td> <td>18.18       </td> <td>20   </td> <td>Midsize</td>\n",
       "        </tr>\n",
       "        <tr>\n",
       "            <td>ActiveHybrid X6</td> <td>2009</td> <td>97237.9</td> <td>17.96       </td> <td>18.82</td> <td>SUV    </td>\n",
       "        </tr>\n",
       "        <tr>\n",
       "            <td>S400 Long      </td> <td>2009</td> <td>96208.9</td> <td>13.89       </td> <td>26.34</td> <td>Large  </td>\n",
       "        </tr>\n",
       "        <tr>\n",
       "            <td>Panamera S     </td> <td>2013</td> <td>96150  </td> <td>18.52       </td> <td>25   </td> <td>Large  </td>\n",
       "        </tr>\n",
       "        <tr>\n",
       "            <td>Panamera S     </td> <td>2012</td> <td>95283.9</td> <td>17.54       </td> <td>25   </td> <td>Large  </td>\n",
       "        </tr>\n",
       "        <tr>\n",
       "            <td>S400           </td> <td>2013</td> <td>92350  </td> <td>13.89       </td> <td>21   </td> <td>Large  </td>\n",
       "        </tr>\n",
       "        <tr>\n",
       "            <td>S400           </td> <td>2010</td> <td>88212.8</td> <td>12.99       </td> <td>21   </td> <td>Large  </td>\n",
       "        </tr>\n",
       "        <tr>\n",
       "            <td>ActiveHybrid 7L</td> <td>2013</td> <td>84300  </td> <td>18.18       </td> <td>25   </td> <td>Large  </td>\n",
       "        </tr>\n",
       "    </tbody>\n",
       "</table>\n",
       "<p>... (143 rows omitted)</p>"
      ],
      "text/plain": [
       "vehicle         | year | msrp    | acceleration | mpg   | class\n",
       "Lexus LS600h/hL | 2007 | 118544  | 17.54        | 21    | Midsize\n",
       "ActiveHybrid 7  | 2010 | 104300  | 20.41        | 22.11 | Large\n",
       "ActiveHybrid 7i | 2011 | 102606  | 18.18        | 20    | Midsize\n",
       "ActiveHybrid X6 | 2009 | 97237.9 | 17.96        | 18.82 | SUV\n",
       "S400 Long       | 2009 | 96208.9 | 13.89        | 26.34 | Large\n",
       "Panamera S      | 2013 | 96150   | 18.52        | 25    | Large\n",
       "Panamera S      | 2012 | 95283.9 | 17.54        | 25    | Large\n",
       "S400            | 2013 | 92350   | 13.89        | 21    | Large\n",
       "S400            | 2010 | 88212.8 | 12.99        | 21    | Large\n",
       "ActiveHybrid 7L | 2013 | 84300   | 18.18        | 25    | Large\n",
       "... (143 rows omitted)"
      ]
     },
     "execution_count": 11,
     "metadata": {},
     "output_type": "execute_result"
    }
   ],
   "source": [
    "hybrid.sort('msrp', descending=True)"
   ]
  },
  {
   "cell_type": "code",
   "execution_count": 12,
   "id": "514d4fb7-c4f8-4bf9-9f25-f57e29e8c858",
   "metadata": {
    "tags": []
   },
   "outputs": [
    {
     "data": {
      "text/plain": [
       "(array(['Prius (1st Gen)', 'Tino', 'Prius (2nd Gen)', 'Insight',\n",
       "        'Civic (1st Gen)', 'Insight', 'Insight', 'Alphard', 'Insight',\n",
       "        'Civic', 'Escape', 'Insight', 'Prius', 'Silverado 15 2WD',\n",
       "        'Lexus RX400h', 'Civic (2nd Gen)', 'Highlander', 'Insight', 'Civic',\n",
       "        'Escape 2WD', 'Accord', 'Silverado 15 2WD', 'Mercury Mariner',\n",
       "        'Camry', 'Lexus GS450h', 'Estima', 'Altima', 'Chevrolet Tahoe',\n",
       "        'Kluger', 'Lexus LS600h/hL', 'Tribute', 'GMC Yukon', 'Aura', 'Vue',\n",
       "        'Silverado 15 2WD', 'Crown', 'Cadillac Escalade', 'F3DM', 'Altima',\n",
       "        'A5 BSG', 'Lexus RX450h', 'ML450 Blue HV', 'Prius (3rd Gen)',\n",
       "        'S400 Long', 'Mercury Milan', 'Lexus HS250h', 'Avante/Elantra LPI',\n",
       "        'ActiveHybrid X6', 'SAI', 'Malibu', 'Vue', 'Aspen HEV', 'Durango',\n",
       "        'Auris HSD', 'CR-Z', 'F3DM PHEV', 'Touareg', 'Audi Q5',\n",
       "        'Jeep Patriot', 'Besturn B50  ', 'ActiveHybrid 7', 'Lincoln MKZ',\n",
       "        'Fit/Jazz', 'Sonata', 'Cayenne S', 'Insight', 'Fuga Infiniti M35H',\n",
       "        'Chevrolet Volt', 'Tribute 4WD', 'Fusion FWD', 'HS 250h',\n",
       "        'Mariner FWD', 'RX 450h', 'ML450 4natic', 'Silverado 15 2WD',\n",
       "        'S400', 'Aqua', 'Lexus CT200h', 'Civic (3rd Gen)',\n",
       "        'Prius alpha (V)', '3008', 'Fit Shuttle', 'Buick Regal', 'Prius V',\n",
       "        'Freed/Freed Spike', 'Optima K5', 'Escape FWD', 'Insight',\n",
       "        'MKZ FWD', 'CR-Z', 'Sonata', 'Camry', 'Tribute 2WD', 'Cayenne S',\n",
       "        'Touareg', 'ActiveHybrid 7i', 'Prius C', 'Prius PHV', 'Ampera',\n",
       "        'ActiveHybrid 5', 'Lexus GS450h', 'Insight', 'Chevrolet Volt',\n",
       "        'Camry LE', 'MKZ FWD', 'M35h', 'LaCrosse', 'ActiveHybrid 5',\n",
       "        'Panamera S', 'Yukon 1500', 'Prius C', 'Jetta', 'Civic', 'Prius',\n",
       "        'Fusion FWD', 'C-Max FWD', 'Insight', 'Camry LE', 'Camry LXLE',\n",
       "        'Sonata', 'Optima', 'Sonata Limited', 'Optima EX', 'Malibu',\n",
       "        'LaCrosse', 'Regal', 'RX 450h', 'Highlander 4WD', 'Q5', 'Cayenne S',\n",
       "        'Touareg', 'Escalade 2WD', 'Tahoe 2WD', 'Yukon 1500', 'Yukon 1500',\n",
       "        'MKZ FWD', 'CT 200h', 'ES 300h', 'ILX', 'ActiveHybrid 3',\n",
       "        'Silverado 15 2WD', 'Sierra 15 2WD', 'GS 450h', 'M35h', 'E400',\n",
       "        'ActiveHybrid 5', 'ActiveHybrid 7L', 'Panamera S', 'S400',\n",
       "        'Prius Plug-in', 'C-Max Energi Plug-in', 'Fusion Energi Plug-in',\n",
       "        'Chevrolet Volt'],\n",
       "       dtype='<U21'),\n",
       " array([1997, 2000, 2000, 2000, 2001, 2001, 2002, 2003, 2003, 2003, 2004,\n",
       "        2004, 2004, 2004, 2005, 2005, 2005, 2005, 2005, 2005, 2005, 2005,\n",
       "        2006, 2006, 2006, 2006, 2006, 2007, 2007, 2007, 2007, 2007, 2007,\n",
       "        2007, 2007, 2008, 2008, 2008, 2008, 2009, 2009, 2009, 2009, 2009,\n",
       "        2009, 2009, 2009, 2009, 2009, 2009, 2009, 2009, 2009, 2010, 2010,\n",
       "        2010, 2010, 2010, 2010, 2010, 2010, 2010, 2010, 2010, 2010, 2010,\n",
       "        2010, 2010, 2010, 2010, 2010, 2010, 2010, 2010, 2010, 2010, 2011,\n",
       "        2011, 2011, 2011, 2011, 2011, 2011, 2011, 2011, 2011, 2011, 2011,\n",
       "        2011, 2011, 2011, 2011, 2011, 2011, 2011, 2011, 2012, 2012, 2012,\n",
       "        2012, 2012, 2012, 2012, 2012, 2012, 2012, 2012, 2012, 2012, 2012,\n",
       "        2013, 2013, 2013, 2013, 2013, 2013, 2013, 2013, 2013, 2013, 2013,\n",
       "        2013, 2013, 2013, 2013, 2013, 2013, 2013, 2013, 2013, 2013, 2013,\n",
       "        2013, 2013, 2013, 2013, 2013, 2013, 2013, 2013, 2013, 2013, 2013,\n",
       "        2013, 2013, 2013, 2013, 2013, 2013, 2013, 2013, 2013, 2013]),\n",
       " array([  24509.74,   35354.97,   26832.25,   18936.41,   25833.38,\n",
       "          19036.71,   19137.01,   38084.77,   19137.01,   14071.92,\n",
       "          36676.1 ,   19237.31,   20355.64,   30089.64,   58521.14,\n",
       "          26354.44,   29186.21,   19387.76,   18236.33,   19322.56,\n",
       "          16343.69,   32647.26,   34772.4 ,   29853.25,   64547.56,\n",
       "          36012.7 ,   29524.75,   42924.35,   46229.48,  118543.6 ,\n",
       "          24823.83,   57094.81,   22110.87,   22938.33,   34653.23,\n",
       "          62290.38,   78932.81,   23744.06,   18675.63,   11849.43,\n",
       "          46233.36,   60519.83,   24641.18,   96208.93,   30522.57,\n",
       "          38478.15,   21872.71,   97237.9 ,   39172.44,   24768.79,\n",
       "          26408.67,   44903.77,   41033.24,   35787.29,   21435.54,\n",
       "          23124.59,   64198.95,   37510.86,   17045.06,   14586.61,\n",
       "         104300.43,   37036.64,   16911.85,   28287.66,   73183.47,\n",
       "          19859.16,   70157.02,   42924.35,   27968.32,   28033.51,\n",
       "          34753.53,   30194.95,   42812.54,   55164.33,   38454.56,\n",
       "          88212.78,   22850.87,   30082.16,   24999.59,   30588.35,\n",
       "          45101.54,   16394.36,   27948.93,   27272.28,   27972.07,\n",
       "          26549.16,   30661.34,   18254.38,   34748.52,   19402.8 ,\n",
       "          25872.07,   27130.82,   26213.09,   67902.28,   50149.39,\n",
       "         102605.66,   19006.62,   32095.61,   31739.55,   62180.23,\n",
       "          59126.14,   18555.28,   39261.96,   26067.66,   34858.84,\n",
       "          53860.45,   30049.52,   61132.11,   95283.85,   52626.77,\n",
       "          19080.  ,   24995.  ,   24360.  ,   24200.  ,   27200.  ,\n",
       "          25200.  ,   18600.  ,   26140.  ,   27670.  ,   25650.  ,\n",
       "          25900.  ,   30550.  ,   31950.  ,   24985.  ,   31660.  ,\n",
       "          29015.  ,   46310.  ,   40170.  ,   50900.  ,   69850.  ,\n",
       "          62575.  ,   74425.  ,   53620.  ,   54145.  ,   61960.  ,\n",
       "          35925.  ,   32050.  ,   39250.  ,   28900.  ,   49650.  ,\n",
       "          41135.  ,   41555.  ,   59450.  ,   54750.  ,   55800.  ,\n",
       "          61400.  ,   84300.  ,   96150.  ,   92350.  ,   32000.  ,\n",
       "          32950.  ,   38700.  ,   39145.  ]),\n",
       " array([  7.46,   8.2 ,   7.97,   9.52,   7.04,   9.52,   9.71,   8.33,\n",
       "          9.52,   8.62,  10.32,   9.35,   9.9 ,   9.09,  12.76,   7.63,\n",
       "         12.76,   9.71,   8.26,   9.52,  14.93,  11.11,   8.98,  11.28,\n",
       "         18.65,   9.26,  13.29,  10.91,  12.76,  17.54,  11.28,  12.28,\n",
       "         10.87,  10.75,  11.49,   8.7 ,   9.09,   9.52,  13.7 ,   7.87,\n",
       "         13.47,  12.6 ,   9.6 ,  13.89,  11.55,  11.55,  10.21,  17.96,\n",
       "         11.55,   9.09,  13.7 ,  13.51,   8.33,   8.85,   9.24,   9.24,\n",
       "         15.38,  14.08,  12.05,   7.14,  20.41,  11.15,   8.26,  14.7 ,\n",
       "         14.71,   9.17,  18.65,  10.78,  12.35,  11.49,  11.76,  11.63,\n",
       "         13.89,  12.99,  11.76,  12.99,   9.35,   9.71,   9.6 ,  10.  ,\n",
       "         11.36,   7.52,  12.05,   9.51,   6.29,  10.54,  12.35,   9.52,\n",
       "         11.49,  12.2 ,  11.9 ,  13.89,  12.5 ,  18.52,  16.13,  18.18,\n",
       "          9.35,   8.82,  11.11,  16.67,  16.95,   9.42,  11.11,  13.16,\n",
       "         11.49,  19.23,  11.36,  17.54,  17.54,  13.5 ,   8.7 ,  12.66,\n",
       "         10.2 ,  10.2 ,  11.72,  12.35,  11.76,  13.51,  13.33,  11.76,\n",
       "         11.63,  11.76,  11.36,  11.49,  11.36,  12.2 ,  12.99,  13.89,\n",
       "         14.71,  16.39,  16.13,  11.63,  11.9 ,  11.88,  13.33,  14.03,\n",
       "         10.31,  12.35,   9.26,  14.93,  12.35,  10.  ,  16.67,  19.61,\n",
       "         14.93,  12.99,  18.18,  18.52,  13.89,   9.17,  11.76,  11.76,\n",
       "         11.11]),\n",
       " array([ 41.26,  54.1 ,  45.23,  53.  ,  47.04,  53.  ,  53.  ,  40.46,\n",
       "         53.  ,  41.  ,  31.99,  52.  ,  46.  ,  17.  ,  28.23,  39.99,\n",
       "         29.4 ,  52.  ,  41.  ,  29.  ,  28.  ,  17.  ,  32.93,  33.64,\n",
       "         33.4 ,  47.04,  32.93,  22.35,  25.87,  21.  ,  31.75,  21.78,\n",
       "         27.  ,  26.  ,  17.  ,  37.16,  22.35,  30.11,  34.  ,  35.28,\n",
       "         31.99,  23.99,  47.98,  26.34,  40.69,  54.1 ,  41.87,  18.82,\n",
       "         54.1 ,  29.  ,  28.  ,  21.  ,  21.  ,  68.21,  37.  ,  30.15,\n",
       "         28.7 ,  33.64,  29.4 ,  31.28,  22.11,  37.63,  30.  ,  37.  ,\n",
       "         26.11,  41.  ,  33.64,  35.  ,  29.  ,  39.  ,  35.  ,  32.  ,\n",
       "         30.  ,  22.  ,  22.  ,  21.  ,  50.  ,  42.  ,  44.36,  72.92,\n",
       "         61.16,  58.8 ,  25.99,  32.93,  50.81,  36.  ,  32.  ,  41.  ,\n",
       "         39.  ,  37.  ,  36.  ,  33.  ,  32.  ,  21.  ,  21.  ,  20.  ,\n",
       "         50.  ,  50.  ,  37.  ,  26.  ,  31.  ,  42.  ,  37.  ,  41.  ,\n",
       "         39.  ,  29.  ,  29.  ,  26.  ,  25.  ,  21.  ,  50.  ,  45.  ,\n",
       "         44.  ,  50.  ,  47.  ,  43.  ,  42.  ,  41.  ,  40.  ,  38.  ,\n",
       "         38.  ,  37.  ,  37.  ,  29.  ,  29.  ,  29.  ,  30.  ,  28.  ,\n",
       "         26.  ,  21.  ,  21.  ,  21.  ,  21.  ,  21.  ,  21.  ,  45.  ,\n",
       "         42.  ,  40.  ,  38.  ,  28.  ,  21.  ,  21.  ,  31.  ,  29.  ,\n",
       "         26.  ,  26.  ,  25.  ,  25.  ,  21.  ,  50.  ,  43.  ,  43.  ,\n",
       "         37.  ]),\n",
       " array(['Compact', 'Compact', 'Compact', 'Two Seater', 'Compact',\n",
       "        'Two Seater', 'Two Seater', 'Minivan', 'Two Seater', 'Compact',\n",
       "        'SUV', 'Two Seater', 'Midsize', 'Pickup Truck', 'SUV', 'Compact',\n",
       "        'SUV', 'Two Seater', 'Compact', 'SUV', 'Midsize', 'Pickup Truck',\n",
       "        'SUV', 'Midsize', 'Midsize', 'Minivan', 'Midsize', 'SUV', 'SUV',\n",
       "        'Midsize', 'SUV', 'SUV', 'Midsize', 'SUV', 'Pickup Truck',\n",
       "        'Midsize', 'SUV', 'Midsize', 'Midsize', 'Midsize', 'SUV', 'SUV',\n",
       "        'Compact', 'Large', 'Midsize', 'Compact', 'Compact', 'SUV',\n",
       "        'Midsize', 'Midsize', 'SUV', 'SUV', 'SUV', 'Compact', 'Two Seater',\n",
       "        'Midsize', 'SUV', 'SUV', 'SUV', 'Midsize', 'Large', 'Midsize',\n",
       "        'Compact', 'Midsize', 'SUV', 'Compact', 'Midsize', 'Compact', 'SUV',\n",
       "        'Midsize', 'Compact', 'SUV', 'SUV', 'SUV', 'Pickup Truck', 'Large',\n",
       "        'Compact', 'Compact', 'Compact', 'Midsize', 'Compact', 'Minivan',\n",
       "        'Midsize', 'Midsize', 'Minivan', 'Midsize', 'SUV', 'Compact',\n",
       "        'Midsize', 'Two Seater', 'Midsize', 'Midsize', 'SUV', 'SUV', 'SUV',\n",
       "        'Midsize', 'Compact', 'Midsize', 'Compact', 'Midsize', 'Midsize',\n",
       "        'Compact', 'Compact', 'Midsize', 'Midsize', 'Midsize', 'Midsize',\n",
       "        'Midsize', 'Large', 'SUV', 'Compact', 'Compact', 'Compact',\n",
       "        'Midsize', 'Midsize', 'Large', 'Compact', 'Midsize', 'Midsize',\n",
       "        'Midsize', 'Midsize', 'Midsize', 'Midsize', 'Midsize', 'Midsize',\n",
       "        'Midsize', 'SUV', 'SUV', 'SUV', 'SUV', 'SUV', 'SUV', 'SUV', 'SUV',\n",
       "        'SUV', 'Midsize', 'Compact', 'Midsize', 'Compact', 'Compact',\n",
       "        'Pickup Truck', 'Pickup Truck', 'Midsize', 'Midsize', 'Midsize',\n",
       "        'Midsize', 'Large', 'Large', 'Large', 'Midsize', 'Midsize',\n",
       "        'Midsize', 'Compact'],\n",
       "       dtype='<U12'))"
      ]
     },
     "execution_count": 12,
     "metadata": {},
     "output_type": "execute_result"
    }
   ],
   "source": [
    "hybrid.columns"
   ]
  },
  {
   "cell_type": "code",
   "execution_count": 13,
   "id": "92231fd8-f765-447a-a5c6-42562cf74f88",
   "metadata": {
    "tags": []
   },
   "outputs": [
    {
     "data": {
      "text/plain": [
       "153"
      ]
     },
     "execution_count": 13,
     "metadata": {},
     "output_type": "execute_result"
    }
   ],
   "source": [
    "hybrid.num_rows"
   ]
  },
  {
   "cell_type": "code",
   "execution_count": 14,
   "id": "73a63ea1-72f3-462c-9380-5fdd6d18f2fc",
   "metadata": {
    "tags": []
   },
   "outputs": [
    {
     "data": {
      "text/plain": [
       "Rows(vehicle         | year | msrp    | acceleration | mpg   | class\n",
       "Prius (1st Gen) | 1997 | 24509.7 | 7.46         | 41.26 | Compact\n",
       "Tino            | 2000 | 35355   | 8.2          | 54.1  | Compact\n",
       "Prius (2nd Gen) | 2000 | 26832.2 | 7.97         | 45.23 | Compact\n",
       "Insight         | 2000 | 18936.4 | 9.52         | 53    | Two Seater\n",
       "Civic (1st Gen) | 2001 | 25833.4 | 7.04         | 47.04 | Compact\n",
       "Insight         | 2001 | 19036.7 | 9.52         | 53    | Two Seater\n",
       "Insight         | 2002 | 19137   | 9.71         | 53    | Two Seater\n",
       "Alphard         | 2003 | 38084.8 | 8.33         | 40.46 | Minivan\n",
       "Insight         | 2003 | 19137   | 9.52         | 53    | Two Seater\n",
       "Civic           | 2003 | 14071.9 | 8.62         | 41    | Compact\n",
       "... (143 rows omitted))"
      ]
     },
     "execution_count": 14,
     "metadata": {},
     "output_type": "execute_result"
    }
   ],
   "source": [
    "hybrid.rows"
   ]
  },
  {
   "cell_type": "code",
   "execution_count": 15,
   "id": "339bb487-a3ee-49bb-ae00-a9431d0ec99f",
   "metadata": {
    "tags": []
   },
   "outputs": [
    {
     "data": {
      "text/plain": [
       "Row(vehicle='Prius (1st Gen)', year=1997, msrp=24509.740000000002, acceleration=7.46, mpg=41.259999999999998, class='Compact')"
      ]
     },
     "execution_count": 15,
     "metadata": {},
     "output_type": "execute_result"
    }
   ],
   "source": [
    "hybrid.row(0)"
   ]
  },
  {
   "cell_type": "code",
   "execution_count": 16,
   "id": "772b3d2f-ad69-482d-ae54-48d2e3d47fc9",
   "metadata": {
    "tags": []
   },
   "outputs": [
    {
     "data": {
      "text/plain": [
       "('vehicle', 'year', 'msrp', 'acceleration', 'mpg', 'class')"
      ]
     },
     "execution_count": 16,
     "metadata": {},
     "output_type": "execute_result"
    }
   ],
   "source": [
    "hybrid.labels"
   ]
  },
  {
   "cell_type": "code",
   "execution_count": 16,
   "id": "046a85a7-8d0a-48aa-b793-98c404f7df06",
   "metadata": {
    "tags": []
   },
   "outputs": [
    {
     "data": {
      "text/plain": [
       "('vehicle', 'year', 'msrp', 'acceleration', 'mpg', 'class')"
      ]
     },
     "execution_count": 16,
     "metadata": {},
     "output_type": "execute_result"
    }
   ],
   "source": [
    "hybrid.labels"
   ]
  },
  {
   "cell_type": "code",
   "execution_count": 17,
   "id": "b1d24015-4688-4f95-8e35-20cf1dcbdb9b",
   "metadata": {
    "tags": []
   },
   "outputs": [
    {
     "data": {
      "text/plain": [
       "1997"
      ]
     },
     "execution_count": 17,
     "metadata": {},
     "output_type": "execute_result"
    }
   ],
   "source": [
    "hybrid.first('year')"
   ]
  },
  {
   "cell_type": "code",
   "execution_count": 18,
   "id": "d5085814-749c-475c-bcef-2778a6f258de",
   "metadata": {
    "tags": []
   },
   "outputs": [
    {
     "data": {
      "text/plain": [
       "'Prius (1st Gen)'"
      ]
     },
     "execution_count": 18,
     "metadata": {},
     "output_type": "execute_result"
    }
   ],
   "source": [
    "hybrid.first('vehicle')"
   ]
  },
  {
   "cell_type": "code",
   "execution_count": 19,
   "id": "b7cd6be6-fa6a-4254-bd39-1d096462ea00",
   "metadata": {
    "tags": []
   },
   "outputs": [
    {
     "data": {
      "text/plain": [
       "2013"
      ]
     },
     "execution_count": 19,
     "metadata": {},
     "output_type": "execute_result"
    }
   ],
   "source": [
    "hybrid.last('year')"
   ]
  },
  {
   "cell_type": "code",
   "execution_count": 20,
   "id": "84a4ed4a-92d2-4046-a535-8c911477956c",
   "metadata": {
    "tags": []
   },
   "outputs": [
    {
     "data": {
      "text/plain": [
       "'Chevrolet Volt'"
      ]
     },
     "execution_count": 20,
     "metadata": {},
     "output_type": "execute_result"
    }
   ],
   "source": [
    "hybrid.last('vehicle')"
   ]
  },
  {
   "cell_type": "code",
   "execution_count": 21,
   "id": "b5cd94b2-2241-4fb7-8c4e-713fa6ccc79b",
   "metadata": {
    "tags": []
   },
   "outputs": [
    {
     "data": {
      "text/plain": [
       "array([['Prius (1st Gen)', 1997, 24509.74, 7.46, 41.26, 'Compact'],\n",
       "       ['Tino', 2000, 35354.97, 8.2, 54.1, 'Compact'],\n",
       "       ['Prius (2nd Gen)', 2000, 26832.25, 7.97, 45.23, 'Compact'],\n",
       "       ['Insight', 2000, 18936.41, 9.52, 53.0, 'Two Seater'],\n",
       "       ['Civic (1st Gen)', 2001, 25833.38, 7.04, 47.04, 'Compact'],\n",
       "       ['Insight', 2001, 19036.71, 9.52, 53.0, 'Two Seater'],\n",
       "       ['Insight', 2002, 19137.01, 9.71, 53.0, 'Two Seater'],\n",
       "       ['Alphard', 2003, 38084.77, 8.33, 40.46, 'Minivan'],\n",
       "       ['Insight', 2003, 19137.01, 9.52, 53.0, 'Two Seater'],\n",
       "       ['Civic', 2003, 14071.92, 8.62, 41.0, 'Compact'],\n",
       "       ['Escape', 2004, 36676.1, 10.32, 31.99, 'SUV'],\n",
       "       ['Insight', 2004, 19237.31, 9.35, 52.0, 'Two Seater'],\n",
       "       ['Prius', 2004, 20355.64, 9.9, 46.0, 'Midsize'],\n",
       "       ['Silverado 15 2WD', 2004, 30089.64, 9.09, 17.0, 'Pickup Truck'],\n",
       "       ['Lexus RX400h', 2005, 58521.14, 12.76, 28.23, 'SUV'],\n",
       "       ['Civic (2nd Gen)', 2005, 26354.44, 7.63, 39.99, 'Compact'],\n",
       "       ['Highlander', 2005, 29186.21, 12.76, 29.4, 'SUV'],\n",
       "       ['Insight', 2005, 19387.76, 9.71, 52.0, 'Two Seater'],\n",
       "       ['Civic', 2005, 18236.33, 8.26, 41.0, 'Compact'],\n",
       "       ['Escape 2WD', 2005, 19322.56, 9.52, 29.0, 'SUV'],\n",
       "       ['Accord', 2005, 16343.69, 14.93, 28.0, 'Midsize'],\n",
       "       ['Silverado 15 2WD', 2005, 32647.26, 11.11, 17.0, 'Pickup Truck'],\n",
       "       ['Mercury Mariner', 2006, 34772.4, 8.98, 32.93, 'SUV'],\n",
       "       ['Camry', 2006, 29853.25, 11.28, 33.64, 'Midsize'],\n",
       "       ['Lexus GS450h', 2006, 64547.56, 18.65, 33.4, 'Midsize'],\n",
       "       ['Estima', 2006, 36012.7, 9.26, 47.04, 'Minivan'],\n",
       "       ['Altima', 2006, 29524.75, 13.29, 32.93, 'Midsize'],\n",
       "       ['Chevrolet Tahoe', 2007, 42924.35, 10.91, 22.35, 'SUV'],\n",
       "       ['Kluger', 2007, 46229.48, 12.76, 25.87, 'SUV'],\n",
       "       ['Lexus LS600h/hL', 2007, 118543.6, 17.54, 21.0, 'Midsize'],\n",
       "       ['Tribute', 2007, 24823.83, 11.28, 31.75, 'SUV'],\n",
       "       ['GMC Yukon', 2007, 57094.81, 12.28, 21.78, 'SUV'],\n",
       "       ['Aura', 2007, 22110.87, 10.87, 27.0, 'Midsize'],\n",
       "       ['Vue', 2007, 22938.33, 10.75, 26.0, 'SUV'],\n",
       "       ['Silverado 15 2WD', 2007, 34653.23, 11.49, 17.0, 'Pickup Truck'],\n",
       "       ['Crown', 2008, 62290.38, 8.7, 37.16, 'Midsize'],\n",
       "       ['Cadillac Escalade', 2008, 78932.81, 9.09, 22.35, 'SUV'],\n",
       "       ['F3DM', 2008, 23744.06, 9.52, 30.11, 'Midsize'],\n",
       "       ['Altima', 2008, 18675.63, 13.7, 34.0, 'Midsize'],\n",
       "       ['A5 BSG', 2009, 11849.43, 7.87, 35.28, 'Midsize'],\n",
       "       ['Lexus RX450h', 2009, 46233.36, 13.47, 31.99, 'SUV'],\n",
       "       ['ML450 Blue HV', 2009, 60519.83, 12.6, 23.99, 'SUV'],\n",
       "       ['Prius (3rd Gen)', 2009, 24641.18, 9.6, 47.98, 'Compact'],\n",
       "       ['S400 Long', 2009, 96208.93, 13.89, 26.34, 'Large'],\n",
       "       ['Mercury Milan', 2009, 30522.57, 11.55, 40.69, 'Midsize'],\n",
       "       ['Lexus HS250h', 2009, 38478.15, 11.55, 54.1, 'Compact'],\n",
       "       ['Avante/Elantra LPI', 2009, 21872.71, 10.21, 41.87, 'Compact'],\n",
       "       ['ActiveHybrid X6', 2009, 97237.9, 17.96, 18.82, 'SUV'],\n",
       "       ['SAI', 2009, 39172.44, 11.55, 54.1, 'Midsize'],\n",
       "       ['Malibu', 2009, 24768.79, 9.09, 29.0, 'Midsize'],\n",
       "       ['Vue', 2009, 26408.67, 13.7, 28.0, 'SUV'],\n",
       "       ['Aspen HEV', 2009, 44903.77, 13.51, 21.0, 'SUV'],\n",
       "       ['Durango', 2009, 41033.24, 8.33, 21.0, 'SUV'],\n",
       "       ['Auris HSD', 2010, 35787.29, 8.85, 68.21, 'Compact'],\n",
       "       ['CR-Z', 2010, 21435.54, 9.24, 37.0, 'Two Seater'],\n",
       "       ['F3DM PHEV', 2010, 23124.59, 9.24, 30.15, 'Midsize'],\n",
       "       ['Touareg', 2010, 64198.95, 15.38, 28.7, 'SUV'],\n",
       "       ['Audi Q5', 2010, 37510.86, 14.08, 33.64, 'SUV'],\n",
       "       ['Jeep Patriot', 2010, 17045.06, 12.05, 29.4, 'SUV'],\n",
       "       ['Besturn B50  ', 2010, 14586.61, 7.14, 31.28, 'Midsize'],\n",
       "       ['ActiveHybrid 7', 2010, 104300.43, 20.41, 22.11, 'Large'],\n",
       "       ['Lincoln MKZ', 2010, 37036.64, 11.15, 37.63, 'Midsize'],\n",
       "       ['Fit/Jazz', 2010, 16911.85, 8.26, 30.0, 'Compact'],\n",
       "       ['Sonata', 2010, 28287.66, 14.7, 37.0, 'Midsize'],\n",
       "       ['Cayenne S', 2010, 73183.47, 14.71, 26.11, 'SUV'],\n",
       "       ['Insight', 2010, 19859.16, 9.17, 41.0, 'Compact'],\n",
       "       ['Fuga Infiniti M35H', 2010, 70157.02, 18.65, 33.64, 'Midsize'],\n",
       "       ['Chevrolet Volt', 2010, 42924.35, 10.78, 35.0, 'Compact'],\n",
       "       ['Tribute 4WD', 2010, 27968.32, 12.35, 29.0, 'SUV'],\n",
       "       ['Fusion FWD', 2010, 28033.51, 11.49, 39.0, 'Midsize'],\n",
       "       ['HS 250h', 2010, 34753.53, 11.76, 35.0, 'Compact'],\n",
       "       ['Mariner FWD', 2010, 30194.95, 11.63, 32.0, 'SUV'],\n",
       "       ['RX 450h', 2010, 42812.54, 13.89, 30.0, 'SUV'],\n",
       "       ['ML450 4natic', 2010, 55164.33, 12.99, 22.0, 'SUV'],\n",
       "       ['Silverado 15 2WD', 2010, 38454.56, 11.76, 22.0, 'Pickup Truck'],\n",
       "       ['S400', 2010, 88212.78, 12.99, 21.0, 'Large'],\n",
       "       ['Aqua', 2011, 22850.87, 9.35, 50.0, 'Compact'],\n",
       "       ['Lexus CT200h', 2011, 30082.16, 9.71, 42.0, 'Compact'],\n",
       "       ['Civic (3rd Gen)', 2011, 24999.59, 9.6, 44.36, 'Compact'],\n",
       "       ['Prius alpha (V)', 2011, 30588.35, 10.0, 72.92, 'Midsize'],\n",
       "       ['3008', 2011, 45101.54, 11.36, 61.16, 'Compact'],\n",
       "       ['Fit Shuttle', 2011, 16394.36, 7.52, 58.8, 'Minivan'],\n",
       "       ['Buick Regal', 2011, 27948.93, 12.05, 25.99, 'Midsize'],\n",
       "       ['Prius V', 2011, 27272.28, 9.51, 32.93, 'Midsize'],\n",
       "       ['Freed/Freed Spike', 2011, 27972.07, 6.29, 50.81, 'Minivan'],\n",
       "       ['Optima K5', 2011, 26549.16, 10.54, 36.0, 'Midsize'],\n",
       "       ['Escape FWD', 2011, 30661.34, 12.35, 32.0, 'SUV'],\n",
       "       ['Insight', 2011, 18254.38, 9.52, 41.0, 'Compact'],\n",
       "       ['MKZ FWD', 2011, 34748.52, 11.49, 39.0, 'Midsize'],\n",
       "       ['CR-Z', 2011, 19402.8, 12.2, 37.0, 'Two Seater'],\n",
       "       ['Sonata', 2011, 25872.07, 11.9, 36.0, 'Midsize'],\n",
       "       ['Camry', 2011, 27130.82, 13.89, 33.0, 'Midsize'],\n",
       "       ['Tribute 2WD', 2011, 26213.09, 12.5, 32.0, 'SUV'],\n",
       "       ['Cayenne S', 2011, 67902.28, 18.52, 21.0, 'SUV'],\n",
       "       ['Touareg', 2011, 50149.39, 16.13, 21.0, 'SUV'],\n",
       "       ['ActiveHybrid 7i', 2011, 102605.66, 18.18, 20.0, 'Midsize'],\n",
       "       ['Prius C', 2012, 19006.62, 9.35, 50.0, 'Compact'],\n",
       "       ['Prius PHV', 2012, 32095.61, 8.82, 50.0, 'Midsize'],\n",
       "       ['Ampera', 2012, 31739.55, 11.11, 37.0, 'Compact'],\n",
       "       ['ActiveHybrid 5', 2012, 62180.23, 16.67, 26.0, 'Midsize'],\n",
       "       ['Lexus GS450h', 2012, 59126.14, 16.95, 31.0, 'Midsize'],\n",
       "       ['Insight', 2012, 18555.28, 9.42, 42.0, 'Compact'],\n",
       "       ['Chevrolet Volt', 2012, 39261.96, 11.11, 37.0, 'Compact'],\n",
       "       ['Camry LE', 2012, 26067.66, 13.16, 41.0, 'Midsize'],\n",
       "       ['MKZ FWD', 2012, 34858.84, 11.49, 39.0, 'Midsize'],\n",
       "       ['M35h', 2012, 53860.45, 19.23, 29.0, 'Midsize'],\n",
       "       ['LaCrosse', 2012, 30049.52, 11.36, 29.0, 'Midsize'],\n",
       "       ['ActiveHybrid 5', 2012, 61132.11, 17.54, 26.0, 'Midsize'],\n",
       "       ['Panamera S', 2012, 95283.85, 17.54, 25.0, 'Large'],\n",
       "       ['Yukon 1500', 2012, 52626.77, 13.5, 21.0, 'SUV'],\n",
       "       ['Prius C', 2013, 19080.0, 8.7, 50.0, 'Compact'],\n",
       "       ['Jetta', 2013, 24995.0, 12.66, 45.0, 'Compact'],\n",
       "       ['Civic', 2013, 24360.0, 10.2, 44.0, 'Compact'],\n",
       "       ['Prius', 2013, 24200.0, 10.2, 50.0, 'Midsize'],\n",
       "       ['Fusion FWD', 2013, 27200.0, 11.72, 47.0, 'Midsize'],\n",
       "       ['C-Max FWD', 2013, 25200.0, 12.35, 43.0, 'Large'],\n",
       "       ['Insight', 2013, 18600.0, 11.76, 42.0, 'Compact'],\n",
       "       ['Camry LE', 2013, 26140.0, 13.51, 41.0, 'Midsize'],\n",
       "       ['Camry LXLE', 2013, 27670.0, 13.33, 40.0, 'Midsize'],\n",
       "       ['Sonata', 2013, 25650.0, 11.76, 38.0, 'Midsize'],\n",
       "       ['Optima', 2013, 25900.0, 11.63, 38.0, 'Midsize'],\n",
       "       ['Sonata Limited', 2013, 30550.0, 11.76, 37.0, 'Midsize'],\n",
       "       ['Optima EX', 2013, 31950.0, 11.36, 37.0, 'Midsize'],\n",
       "       ['Malibu', 2013, 24985.0, 11.49, 29.0, 'Midsize'],\n",
       "       ['LaCrosse', 2013, 31660.0, 11.36, 29.0, 'Midsize'],\n",
       "       ['Regal', 2013, 29015.0, 12.2, 29.0, 'Midsize'],\n",
       "       ['RX 450h', 2013, 46310.0, 12.99, 30.0, 'SUV'],\n",
       "       ['Highlander 4WD', 2013, 40170.0, 13.89, 28.0, 'SUV'],\n",
       "       ['Q5', 2013, 50900.0, 14.71, 26.0, 'SUV'],\n",
       "       ['Cayenne S', 2013, 69850.0, 16.39, 21.0, 'SUV'],\n",
       "       ['Touareg', 2013, 62575.0, 16.13, 21.0, 'SUV'],\n",
       "       ['Escalade 2WD', 2013, 74425.0, 11.63, 21.0, 'SUV'],\n",
       "       ['Tahoe 2WD', 2013, 53620.0, 11.9, 21.0, 'SUV'],\n",
       "       ['Yukon 1500', 2013, 54145.0, 11.88, 21.0, 'SUV'],\n",
       "       ['Yukon 1500', 2013, 61960.0, 13.33, 21.0, 'SUV'],\n",
       "       ['MKZ FWD', 2013, 35925.0, 14.03, 45.0, 'Midsize'],\n",
       "       ['CT 200h', 2013, 32050.0, 10.31, 42.0, 'Compact'],\n",
       "       ['ES 300h', 2013, 39250.0, 12.35, 40.0, 'Midsize'],\n",
       "       ['ILX', 2013, 28900.0, 9.26, 38.0, 'Compact'],\n",
       "       ['ActiveHybrid 3', 2013, 49650.0, 14.93, 28.0, 'Compact'],\n",
       "       ['Silverado 15 2WD', 2013, 41135.0, 12.35, 21.0, 'Pickup Truck'],\n",
       "       ['Sierra 15 2WD', 2013, 41555.0, 10.0, 21.0, 'Pickup Truck'],\n",
       "       ['GS 450h', 2013, 59450.0, 16.67, 31.0, 'Midsize'],\n",
       "       ['M35h', 2013, 54750.0, 19.61, 29.0, 'Midsize'],\n",
       "       ['E400', 2013, 55800.0, 14.93, 26.0, 'Midsize'],\n",
       "       ['ActiveHybrid 5', 2013, 61400.0, 12.99, 26.0, 'Midsize'],\n",
       "       ['ActiveHybrid 7L', 2013, 84300.0, 18.18, 25.0, 'Large'],\n",
       "       ['Panamera S', 2013, 96150.0, 18.52, 25.0, 'Large'],\n",
       "       ['S400', 2013, 92350.0, 13.89, 21.0, 'Large'],\n",
       "       ['Prius Plug-in', 2013, 32000.0, 9.17, 50.0, 'Midsize'],\n",
       "       ['C-Max Energi Plug-in', 2013, 32950.0, 11.76, 43.0, 'Midsize'],\n",
       "       ['Fusion Energi Plug-in', 2013, 38700.0, 11.76, 43.0, 'Midsize'],\n",
       "       ['Chevrolet Volt', 2013, 39145.0, 11.11, 37.0, 'Compact']], dtype=object)"
      ]
     },
     "execution_count": 21,
     "metadata": {},
     "output_type": "execute_result"
    }
   ],
   "source": [
    "hybrid.values"
   ]
  },
  {
   "cell_type": "markdown",
   "id": "57616885-2389-4505-8e15-c5ed80f4afca",
   "metadata": {},
   "source": [
    "Another way to get the name of the vehicle with the highest mrsp."
   ]
  },
  {
   "cell_type": "code",
   "execution_count": 24,
   "id": "ee4cc02e-d683-438a-b919-34961732cf6c",
   "metadata": {
    "tags": []
   },
   "outputs": [
    {
     "data": {
      "text/plain": [
       "'Lexus LS600h/hL'"
      ]
     },
     "execution_count": 24,
     "metadata": {},
     "output_type": "execute_result"
    }
   ],
   "source": [
    "hybrid.sort('msrp', descending=True).row(0).item(0)"
   ]
  },
  {
   "cell_type": "markdown",
   "id": "8acf5ce2-0d79-4d2b-b4e9-56f7149db1d6",
   "metadata": {
    "tags": []
   },
   "source": [
    "What if you want to visualize the distribution of the `msrp`? \n",
    "\n",
    "First, execute the magic command \n",
    "\n",
    "```\n",
    "%matplotlib inline\n",
    "```\n",
    "\n",
    "to make sure the plot shows up in the notebook. Then imoprt the `pyplot` (a submodule of `matplotlib`).\n",
    "\n",
    "```\n",
    "import matplotlib.pyplot as plt\n",
    "```"
   ]
  },
  {
   "cell_type": "code",
   "execution_count": 30,
   "id": "905627ef-57ef-4a20-9781-33afc8498384",
   "metadata": {
    "tags": []
   },
   "outputs": [],
   "source": [
    "%matplotlib inline\n",
    "import matplotlib.pyplot as plt"
   ]
  },
  {
   "cell_type": "code",
   "execution_count": 36,
   "id": "26da35c0-c64c-490e-add9-5d6be32a6a12",
   "metadata": {
    "tags": []
   },
   "outputs": [
    {
     "data": {
      "image/png": "[encoded data removed]",
      "text/plain": [
       "<Figure size 600x400 with 1 Axes>"
      ]
     },
     "metadata": {},
     "output_type": "display_data"
    }
   ],
   "source": [
    "hybrid.select('msrp').hist()"
   ]
  },
  {
   "cell_type": "code",
   "execution_count": 34,
   "id": "c4c91ae2-d0ca-41fc-88a8-983f014c0a01",
   "metadata": {
    "tags": []
   },
   "outputs": [
    {
     "data": {
      "image/png": "[encoded data removed]",
      "text/plain": [
       "<Figure size 600x400 with 1 Axes>"
      ]
     },
     "metadata": {},
     "output_type": "display_data"
    }
   ],
   "source": [
    "hybrid.select('msrp', 'class').hist(group='class')"
   ]
  },
  {
   "cell_type": "markdown",
   "id": "fed4ff9f-53ce-425c-9cbc-bc4bdc00014d",
   "metadata": {},
   "source": [
    "This looks very crowded. Let's compare two classes of vehicle - `Compact` and `Large`.\n",
    "\n",
    "But first we need a way to filter the `hybrid` table for only the `Compact` and `Large` vehicles. The `.where` method is what we need to use."
   ]
  },
  {
   "cell_type": "code",
   "execution_count": 48,
   "id": "2ed56fe5-a25b-46c8-bdf1-d62420cdbdc6",
   "metadata": {
    "tags": []
   },
   "outputs": [
    {
     "data": {
      "text/plain": [
       "array(['Compact', 'Large', 'Midsize', 'Minivan', 'Pickup Truck', 'SUV',\n",
       "       'Two Seater'],\n",
       "      dtype='<U12')"
      ]
     },
     "execution_count": 48,
     "metadata": {},
     "output_type": "execute_result"
    }
   ],
   "source": [
    "np.unique(hybrid.column('class'))"
   ]
  },
  {
   "cell_type": "code",
   "execution_count": 47,
   "id": "b21a316c-f32f-4b06-a0f9-e03b00b94aa0",
   "metadata": {
    "tags": []
   },
   "outputs": [
    {
     "data": {
      "text/html": [
       "<table border=\"1\" class=\"dataframe\">\n",
       "    <thead>\n",
       "        <tr>\n",
       "            <th>vehicle</th> <th>year</th> <th>msrp</th> <th>acceleration</th> <th>mpg</th> <th>class</th>\n",
       "        </tr>\n",
       "    </thead>\n",
       "    <tbody>\n",
       "        <tr>\n",
       "            <td>Prius (1st Gen)</td> <td>1997</td> <td>24509.7</td> <td>7.46        </td> <td>41.26</td> <td>Compact</td>\n",
       "        </tr>\n",
       "        <tr>\n",
       "            <td>Tino           </td> <td>2000</td> <td>35355  </td> <td>8.2         </td> <td>54.1 </td> <td>Compact</td>\n",
       "        </tr>\n",
       "        <tr>\n",
       "            <td>Prius (2nd Gen)</td> <td>2000</td> <td>26832.2</td> <td>7.97        </td> <td>45.23</td> <td>Compact</td>\n",
       "        </tr>\n",
       "        <tr>\n",
       "            <td>Civic (1st Gen)</td> <td>2001</td> <td>25833.4</td> <td>7.04        </td> <td>47.04</td> <td>Compact</td>\n",
       "        </tr>\n",
       "        <tr>\n",
       "            <td>Civic          </td> <td>2003</td> <td>14071.9</td> <td>8.62        </td> <td>41   </td> <td>Compact</td>\n",
       "        </tr>\n",
       "        <tr>\n",
       "            <td>Civic (2nd Gen)</td> <td>2005</td> <td>26354.4</td> <td>7.63        </td> <td>39.99</td> <td>Compact</td>\n",
       "        </tr>\n",
       "        <tr>\n",
       "            <td>Civic          </td> <td>2005</td> <td>18236.3</td> <td>8.26        </td> <td>41   </td> <td>Compact</td>\n",
       "        </tr>\n",
       "        <tr>\n",
       "            <td>Prius (3rd Gen)</td> <td>2009</td> <td>24641.2</td> <td>9.6         </td> <td>47.98</td> <td>Compact</td>\n",
       "        </tr>\n",
       "        <tr>\n",
       "            <td>S400 Long      </td> <td>2009</td> <td>96208.9</td> <td>13.89       </td> <td>26.34</td> <td>Large  </td>\n",
       "        </tr>\n",
       "        <tr>\n",
       "            <td>Lexus HS250h   </td> <td>2009</td> <td>38478.2</td> <td>11.55       </td> <td>54.1 </td> <td>Compact</td>\n",
       "        </tr>\n",
       "    </tbody>\n",
       "</table>\n",
       "<p>... (30 rows omitted)</p>"
      ],
      "text/plain": [
       "vehicle         | year | msrp    | acceleration | mpg   | class\n",
       "Prius (1st Gen) | 1997 | 24509.7 | 7.46         | 41.26 | Compact\n",
       "Tino            | 2000 | 35355   | 8.2          | 54.1  | Compact\n",
       "Prius (2nd Gen) | 2000 | 26832.2 | 7.97         | 45.23 | Compact\n",
       "Civic (1st Gen) | 2001 | 25833.4 | 7.04         | 47.04 | Compact\n",
       "Civic           | 2003 | 14071.9 | 8.62         | 41    | Compact\n",
       "Civic (2nd Gen) | 2005 | 26354.4 | 7.63         | 39.99 | Compact\n",
       "Civic           | 2005 | 18236.3 | 8.26         | 41    | Compact\n",
       "Prius (3rd Gen) | 2009 | 24641.2 | 9.6          | 47.98 | Compact\n",
       "S400 Long       | 2009 | 96208.9 | 13.89        | 26.34 | Large\n",
       "Lexus HS250h    | 2009 | 38478.2 | 11.55        | 54.1  | Compact\n",
       "... (30 rows omitted)"
      ]
     },
     "execution_count": 47,
     "metadata": {},
     "output_type": "execute_result"
    }
   ],
   "source": [
    "hybrid.where('class', are.below_or_equal_to('Large'))"
   ]
  },
  {
   "cell_type": "code",
   "execution_count": 49,
   "id": "77c04ed3-d9b3-4033-8ae3-374cd1772a3c",
   "metadata": {
    "tags": []
   },
   "outputs": [
    {
     "data": {
      "text/html": [
       "<table border=\"1\" class=\"dataframe\">\n",
       "    <thead>\n",
       "        <tr>\n",
       "            <th>vehicle</th> <th>year</th> <th>msrp</th> <th>acceleration</th> <th>mpg</th> <th>class</th>\n",
       "        </tr>\n",
       "    </thead>\n",
       "    <tbody>\n",
       "        <tr>\n",
       "            <td>Prius (1st Gen)</td> <td>1997</td> <td>24509.7</td> <td>7.46        </td> <td>41.26</td> <td>Compact</td>\n",
       "        </tr>\n",
       "        <tr>\n",
       "            <td>Tino           </td> <td>2000</td> <td>35355  </td> <td>8.2         </td> <td>54.1 </td> <td>Compact</td>\n",
       "        </tr>\n",
       "        <tr>\n",
       "            <td>Prius (2nd Gen)</td> <td>2000</td> <td>26832.2</td> <td>7.97        </td> <td>45.23</td> <td>Compact</td>\n",
       "        </tr>\n",
       "        <tr>\n",
       "            <td>Civic (1st Gen)</td> <td>2001</td> <td>25833.4</td> <td>7.04        </td> <td>47.04</td> <td>Compact</td>\n",
       "        </tr>\n",
       "        <tr>\n",
       "            <td>Civic          </td> <td>2003</td> <td>14071.9</td> <td>8.62        </td> <td>41   </td> <td>Compact</td>\n",
       "        </tr>\n",
       "        <tr>\n",
       "            <td>Civic (2nd Gen)</td> <td>2005</td> <td>26354.4</td> <td>7.63        </td> <td>39.99</td> <td>Compact</td>\n",
       "        </tr>\n",
       "        <tr>\n",
       "            <td>Civic          </td> <td>2005</td> <td>18236.3</td> <td>8.26        </td> <td>41   </td> <td>Compact</td>\n",
       "        </tr>\n",
       "        <tr>\n",
       "            <td>Prius (3rd Gen)</td> <td>2009</td> <td>24641.2</td> <td>9.6         </td> <td>47.98</td> <td>Compact</td>\n",
       "        </tr>\n",
       "        <tr>\n",
       "            <td>S400 Long      </td> <td>2009</td> <td>96208.9</td> <td>13.89       </td> <td>26.34</td> <td>Large  </td>\n",
       "        </tr>\n",
       "        <tr>\n",
       "            <td>Lexus HS250h   </td> <td>2009</td> <td>38478.2</td> <td>11.55       </td> <td>54.1 </td> <td>Compact</td>\n",
       "        </tr>\n",
       "    </tbody>\n",
       "</table>\n",
       "<p>... (30 rows omitted)</p>"
      ],
      "text/plain": [
       "vehicle         | year | msrp    | acceleration | mpg   | class\n",
       "Prius (1st Gen) | 1997 | 24509.7 | 7.46         | 41.26 | Compact\n",
       "Tino            | 2000 | 35355   | 8.2          | 54.1  | Compact\n",
       "Prius (2nd Gen) | 2000 | 26832.2 | 7.97         | 45.23 | Compact\n",
       "Civic (1st Gen) | 2001 | 25833.4 | 7.04         | 47.04 | Compact\n",
       "Civic           | 2003 | 14071.9 | 8.62         | 41    | Compact\n",
       "Civic (2nd Gen) | 2005 | 26354.4 | 7.63         | 39.99 | Compact\n",
       "Civic           | 2005 | 18236.3 | 8.26         | 41    | Compact\n",
       "Prius (3rd Gen) | 2009 | 24641.2 | 9.6          | 47.98 | Compact\n",
       "S400 Long       | 2009 | 96208.9 | 13.89        | 26.34 | Large\n",
       "Lexus HS250h    | 2009 | 38478.2 | 11.55        | 54.1  | Compact\n",
       "... (30 rows omitted)"
      ]
     },
     "execution_count": 49,
     "metadata": {},
     "output_type": "execute_result"
    }
   ],
   "source": [
    "cl_hybrid = hybrid.where('class', are.below_or_equal_to('Large'))\n",
    "cl_hybrid"
   ]
  },
  {
   "cell_type": "code",
   "execution_count": 53,
   "id": "7095d1b4-829d-4466-a169-df89c37ace1b",
   "metadata": {
    "tags": []
   },
   "outputs": [
    {
     "data": {
      "image/png": "[encoded data removed]",
      "text/plain": [
       "<Figure size 600x400 with 1 Axes>"
      ]
     },
     "metadata": {},
     "output_type": "display_data"
    }
   ],
   "source": [
    "cl_hybrid.select('msrp','class').hist('msrp', group='class')"
   ]
  },
  {
   "cell_type": "markdown",
   "id": "e9491797-7c4a-4401-9f1d-5d550df38026",
   "metadata": {},
   "source": [
    "Let's get the 5 number summary for the `msrp`."
   ]
  },
  {
   "cell_type": "code",
   "execution_count": 54,
   "id": "f45156cd-7021-4d79-a290-d599c6c8b7a4",
   "metadata": {
    "tags": []
   },
   "outputs": [
    {
     "data": {
      "text/html": [
       "<table border=\"1\" class=\"dataframe\">\n",
       "    <thead>\n",
       "        <tr>\n",
       "            <th>statistic</th> <th>msrp</th>\n",
       "        </tr>\n",
       "    </thead>\n",
       "    <tbody>\n",
       "        <tr>\n",
       "            <td>min      </td> <td>11849.4    </td>\n",
       "        </tr>\n",
       "        <tr>\n",
       "            <td>max      </td> <td>118544     </td>\n",
       "        </tr>\n",
       "        <tr>\n",
       "            <td>median   </td> <td>31950      </td>\n",
       "        </tr>\n",
       "        <tr>\n",
       "            <td>sum      </td> <td>6.01587e+06</td>\n",
       "        </tr>\n",
       "    </tbody>\n",
       "</table>"
      ],
      "text/plain": [
       "statistic | msrp\n",
       "min       | 11849.4\n",
       "max       | 118544\n",
       "median    | 31950\n",
       "sum       | 6.01587e+06"
      ]
     },
     "execution_count": 54,
     "metadata": {},
     "output_type": "execute_result"
    }
   ],
   "source": [
    "hybrid.select('msrp').stats()"
   ]
  },
  {
   "cell_type": "code",
   "execution_count": 64,
   "id": "606326b5-80d9-462b-baf5-bbabbebf8709",
   "metadata": {
    "tags": []
   },
   "outputs": [
    {
     "data": {
      "text/html": [
       "<table border=\"1\" class=\"dataframe\">\n",
       "    <thead>\n",
       "        <tr>\n",
       "            <th>statistic</th> <th>msrp</th>\n",
       "        </tr>\n",
       "    </thead>\n",
       "    <tbody>\n",
       "        <tr>\n",
       "            <td>min      </td> <td>11849.4</td>\n",
       "        </tr>\n",
       "        <tr>\n",
       "            <td>max      </td> <td>118544 </td>\n",
       "        </tr>\n",
       "        <tr>\n",
       "            <td>median   </td> <td>31950  </td>\n",
       "        </tr>\n",
       "    </tbody>\n",
       "</table>"
      ],
      "text/plain": [
       "statistic | msrp\n",
       "min       | 11849.4\n",
       "max       | 118544\n",
       "median    | 31950"
      ]
     },
     "execution_count": 64,
     "metadata": {},
     "output_type": "execute_result"
    }
   ],
   "source": [
    "hybrid.select('msrp').stats().take(0,1,2)"
   ]
  },
  {
   "cell_type": "code",
   "execution_count": 68,
   "id": "8fe7cbf9-4a48-4dcd-877e-1fae6688a725",
   "metadata": {
    "tags": []
   },
   "outputs": [
    {
     "data": {
      "text/html": [
       "<table border=\"1\" class=\"dataframe\">\n",
       "    <thead>\n",
       "        <tr>\n",
       "            <th>statistic</th> <th>msrp</th>\n",
       "        </tr>\n",
       "    </thead>\n",
       "    <tbody>\n",
       "        <tr>\n",
       "            <td>min      </td> <td>11849.4</td>\n",
       "        </tr>\n",
       "        <tr>\n",
       "            <td>max      </td> <td>118544 </td>\n",
       "        </tr>\n",
       "        <tr>\n",
       "            <td>median   </td> <td>31950  </td>\n",
       "        </tr>\n",
       "        <tr>\n",
       "            <td>mean     </td> <td>39319.4</td>\n",
       "        </tr>\n",
       "    </tbody>\n",
       "</table>"
      ],
      "text/plain": [
       "statistic | msrp\n",
       "min       | 11849.4\n",
       "max       | 118544\n",
       "median    | 31950\n",
       "mean      | 39319.4"
      ]
     },
     "execution_count": 68,
     "metadata": {},
     "output_type": "execute_result"
    }
   ],
   "source": [
    "hybrid.select('msrp').stats(ops=(np.min, np.max, np.median, np.mean))"
   ]
  },
  {
   "cell_type": "code",
   "execution_count": 71,
   "id": "4c94171e-9f3d-4487-ae83-25f2c8234028",
   "metadata": {
    "tags": []
   },
   "outputs": [
    {
     "data": {
      "text/plain": [
       "('vehicle', 'year', 'msrp', 'acceleration', 'mpg', 'class')"
      ]
     },
     "execution_count": 71,
     "metadata": {},
     "output_type": "execute_result"
    }
   ],
   "source": [
    "hybrid.labels"
   ]
  },
  {
   "cell_type": "code",
   "execution_count": 72,
   "id": "43ad7bce-ba81-4d28-be92-5b405c050292",
   "metadata": {
    "tags": []
   },
   "outputs": [
    {
     "data": {
      "text/html": [
       "<table border=\"1\" class=\"dataframe\">\n",
       "    <thead>\n",
       "        <tr>\n",
       "            <th>acceleration</th> <th>msrp</th>\n",
       "        </tr>\n",
       "    </thead>\n",
       "    <tbody>\n",
       "        <tr>\n",
       "            <td>7.46        </td> <td>24509.7</td>\n",
       "        </tr>\n",
       "        <tr>\n",
       "            <td>8.2         </td> <td>35355  </td>\n",
       "        </tr>\n",
       "        <tr>\n",
       "            <td>7.97        </td> <td>26832.2</td>\n",
       "        </tr>\n",
       "        <tr>\n",
       "            <td>9.52        </td> <td>18936.4</td>\n",
       "        </tr>\n",
       "        <tr>\n",
       "            <td>7.04        </td> <td>25833.4</td>\n",
       "        </tr>\n",
       "        <tr>\n",
       "            <td>9.52        </td> <td>19036.7</td>\n",
       "        </tr>\n",
       "        <tr>\n",
       "            <td>9.71        </td> <td>19137  </td>\n",
       "        </tr>\n",
       "        <tr>\n",
       "            <td>8.33        </td> <td>38084.8</td>\n",
       "        </tr>\n",
       "        <tr>\n",
       "            <td>9.52        </td> <td>19137  </td>\n",
       "        </tr>\n",
       "        <tr>\n",
       "            <td>8.62        </td> <td>14071.9</td>\n",
       "        </tr>\n",
       "    </tbody>\n",
       "</table>\n",
       "<p>... (143 rows omitted)</p>"
      ],
      "text/plain": [
       "acceleration | msrp\n",
       "7.46         | 24509.7\n",
       "8.2          | 35355\n",
       "7.97         | 26832.2\n",
       "9.52         | 18936.4\n",
       "7.04         | 25833.4\n",
       "9.52         | 19036.7\n",
       "9.71         | 19137\n",
       "8.33         | 38084.8\n",
       "9.52         | 19137\n",
       "8.62         | 14071.9\n",
       "... (143 rows omitted)"
      ]
     },
     "execution_count": 72,
     "metadata": {},
     "output_type": "execute_result"
    }
   ],
   "source": [
    "hybrid.select('acceleration','msrp')"
   ]
  },
  {
   "cell_type": "code",
   "execution_count": 76,
   "id": "ab11977b-3046-4b92-bcaf-5f64a72d7906",
   "metadata": {
    "tags": []
   },
   "outputs": [
    {
     "data": {
      "image/png": "[encoded data removed]",
      "text/plain": [
       "<Figure size 500x500 with 1 Axes>"
      ]
     },
     "metadata": {},
     "output_type": "display_data"
    }
   ],
   "source": [
    "hybrid.scatter('acceleration','msrp')"
   ]
  },
  {
   "cell_type": "code",
   "execution_count": 80,
   "id": "643b11e5-a21d-4be6-8591-c992fba20a85",
   "metadata": {
    "tags": []
   },
   "outputs": [
    {
     "data": {
      "image/png": "[encoded data removed]",
      "text/plain": [
       "<Figure size 500x500 with 1 Axes>"
      ]
     },
     "metadata": {},
     "output_type": "display_data"
    }
   ],
   "source": [
    "hybrid.scatter('mpg','msrp')"
   ]
  },
  {
   "cell_type": "code",
   "execution_count": 84,
   "id": "949fbb8b-9241-4942-889c-bdd61ffb05f3",
   "metadata": {
    "tags": []
   },
   "outputs": [
    {
     "data": {
      "text/html": [
       "<table border=\"1\" class=\"dataframe\">\n",
       "    <thead>\n",
       "        <tr>\n",
       "            <th>year</th> <th>count</th>\n",
       "        </tr>\n",
       "    </thead>\n",
       "    <tbody>\n",
       "        <tr>\n",
       "            <td>1997</td> <td>1    </td>\n",
       "        </tr>\n",
       "        <tr>\n",
       "            <td>2000</td> <td>3    </td>\n",
       "        </tr>\n",
       "        <tr>\n",
       "            <td>2001</td> <td>2    </td>\n",
       "        </tr>\n",
       "        <tr>\n",
       "            <td>2002</td> <td>1    </td>\n",
       "        </tr>\n",
       "        <tr>\n",
       "            <td>2003</td> <td>3    </td>\n",
       "        </tr>\n",
       "        <tr>\n",
       "            <td>2004</td> <td>4    </td>\n",
       "        </tr>\n",
       "        <tr>\n",
       "            <td>2005</td> <td>8    </td>\n",
       "        </tr>\n",
       "        <tr>\n",
       "            <td>2006</td> <td>5    </td>\n",
       "        </tr>\n",
       "        <tr>\n",
       "            <td>2007</td> <td>8    </td>\n",
       "        </tr>\n",
       "        <tr>\n",
       "            <td>2008</td> <td>4    </td>\n",
       "        </tr>\n",
       "    </tbody>\n",
       "</table>\n",
       "<p>... (5 rows omitted)</p>"
      ],
      "text/plain": [
       "year | count\n",
       "1997 | 1\n",
       "2000 | 3\n",
       "2001 | 2\n",
       "2002 | 1\n",
       "2003 | 3\n",
       "2004 | 4\n",
       "2005 | 8\n",
       "2006 | 5\n",
       "2007 | 8\n",
       "2008 | 4\n",
       "... (5 rows omitted)"
      ]
     },
     "execution_count": 84,
     "metadata": {},
     "output_type": "execute_result"
    }
   ],
   "source": [
    "hybrid.group('year')"
   ]
  },
  {
   "cell_type": "code",
   "execution_count": 96,
   "id": "762f588c-da4e-4d80-be95-4ae2034a7aef",
   "metadata": {
    "tags": []
   },
   "outputs": [
    {
     "data": {
      "image/png": "[encoded data removed]",
      "text/plain": [
       "<Figure size 600x600 with 1 Axes>"
      ]
     },
     "metadata": {},
     "output_type": "display_data"
    }
   ],
   "source": [
    "hybrid.select('year', 'msrp').group('year', np.mean).plot(0, 1)"
   ]
  },
  {
   "cell_type": "code",
   "execution_count": 96,
   "id": "5d4fa275",
   "metadata": {
    "tags": []
   },
   "outputs": [
    {
     "data": {
      "image/png": "[encoded data removed]",
      "text/plain": [
       "<Figure size 600x600 with 1 Axes>"
      ]
     },
     "metadata": {},
     "output_type": "display_data"
    }
   ],
   "source": [
    "hybrid.select('year', 'msrp').group('year', np.mean).plot(0, 1)"
   ]
  }
 ],
 "metadata": {
  "kernelspec": {
   "display_name": "Python 3 (ipykernel)",
   "language": "python",
   "name": "python3"
  },
  "language_info": {
   "codemirror_mode": {
    "name": "ipython",
    "version": 3
   },
   "file_extension": ".py",
   "mimetype": "text/x-python",
   "name": "python",
   "nbconvert_exporter": "python",
   "pygments_lexer": "ipython3",
   "version": "3.9.9"
  }
 },
 "nbformat": 4,
 "nbformat_minor": 5
}
