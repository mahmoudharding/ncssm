{
 "cells": [
  {
   "cell_type": "raw",
   "id": "96be7545-7225-496d-be61-33575dd198e8",
   "metadata": {},
   "source": [
    "# ASSIGNMENT CONFIG\n",
    "init_cell: true\n",
    "export_cell: \n",
    "    pdf: false\n",
    "generate: true\n",
    "files:\n",
    "    - data/hybrid.csv\n",
    "    - images/hybrid-car.png"
   ]
  },
  {
   "cell_type": "markdown",
   "id": "69b7d9db-4eaf-4c08-ab20-e8dce86e07eb",
   "metadata": {
    "tags": []
   },
   "source": [
    "# Run the cell below\n",
    "\n",
    "To run a code cell (i.e.; execute the python code inside a Jupyter notebook) you can click the play button on the ribbon underneath the name of the notebook. Before you begin click the \"Run cell\" button at the top that looks like ▶| or hold down `Shift` + `Return`."
   ]
  },
  {
   "cell_type": "markdown",
   "id": "4cc22667-aadb-48f7-a724-6a43861938c0",
   "metadata": {},
   "source": [
    "# DIY00: Example Question Formats\n",
    "\n",
    "Welcome to the Summer Institute for Data Science! During this session will create notebooks like this one. You can't learn technical subjects without hands-on practice, so these activities are an important part of the session.\n",
    "\n",
    "**Collaboration Policy:**\n",
    "\n",
    "Collaborating on labs is more than okay $-$ it's encouraged! You should rarely remain stuck for more than a few minutes on questions in labs, so ask a neighbor or an instructor for help. Explaining things is beneficial, too $-$ the best way to solidify your knowledge of a subject is to explain it. You should **_not just_** copy/paste someone else's code, but rather work together to gain understanding of the task you need to complete. \n",
    "\n",
    "**Due Date:** \n",
    "\n",
    "## Today's Assignment\n",
    "\n",
    "In today's assignment, you'll learn how to:\n",
    "\n",
    "- crate autograded questions\n",
    "\n",
    "- create manually graded questions\n",
    "\n",
    "- use the `otter assign` command to create a student notebook.\n",
    "\n",
    "Let's get started!"
   ]
  },
  {
   "cell_type": "markdown",
   "id": "e25c3f9c-3464-4d7c-94e6-e2a6d7d0c1cd",
   "metadata": {},
   "source": [
    "**Name:** \n",
    "\n",
    "**Course:** \n",
    "\n",
    "**Date:**"
   ]
  },
  {
   "cell_type": "markdown",
   "id": "38087d80",
   "metadata": {},
   "source": [
    "## 0. Assignment Config\n",
    "\n",
    "The first cell of the notebook, places YAML-formatted configurations in a raw cell that begins with the comment `# ASSIGNMENT CONFIG`.\n",
    "\n",
    "```\n",
    "# ASSIGNMENT CONFIG\n",
    "init_cell: false\n",
    "export_cell: true\n",
    "generate: true\n",
    "files: \n",
    " - data/hybrid.csv\n",
    " - images/hybrid-car.png\n",
    "```\n",
    "\n",
    "**Note:** Files that are required for the assignment must be listed in the assignment configuration block.\n"
   ]
  },
  {
   "cell_type": "markdown",
   "id": "477824c0-6ce8-41fd-8de8-2ab98e83f96f",
   "metadata": {
    "tags": []
   },
   "source": [
    "## 1. Autograded Question\n",
    "\n",
    "Here are examples of an atuograded question:\n"
   ]
  },
  {
   "cell_type": "raw",
   "id": "0ae214d0",
   "metadata": {},
   "source": [
    "# BEGIN QUESTION\n",
    "name: q1"
   ]
  },
  {
   "cell_type": "markdown",
   "id": "079ea29a",
   "metadata": {},
   "source": [
    "**Question 1.** How many seconds are in a week?"
   ]
  },
  {
   "cell_type": "raw",
   "id": "a2791d9a",
   "metadata": {},
   "source": [
    "# BEGIN SOLUTION"
   ]
  },
  {
   "cell_type": "code",
   "execution_count": 4,
   "id": "7dcd88ed-2a46-408a-8e8b-388ea389ab03",
   "metadata": {
    "tags": []
   },
   "outputs": [
    {
     "data": {
      "text/plain": [
       "604800"
      ]
     },
     "execution_count": 4,
     "metadata": {},
     "output_type": "execute_result"
    }
   ],
   "source": [
    "secs_in_week = 7 * 24 * 60 * 60 # SOLUTION\n",
    "secs_in_week"
   ]
  },
  {
   "cell_type": "raw",
   "id": "80c1e5e2",
   "metadata": {},
   "source": [
    "# END SOLUTION"
   ]
  },
  {
   "cell_type": "raw",
   "id": "bec033bf-5975-492a-93fc-89cee88aa35a",
   "metadata": {},
   "source": [
    "# BEGIN TESTS"
   ]
  },
  {
   "cell_type": "code",
   "execution_count": 5,
   "id": "aac4c88c-d0de-4ce4-8efe-293a5787b616",
   "metadata": {
    "tags": []
   },
   "outputs": [
    {
     "data": {
      "text/plain": [
       "True"
      ]
     },
     "execution_count": 5,
     "metadata": {},
     "output_type": "execute_result"
    }
   ],
   "source": [
    "secs_in_week == 604800"
   ]
  },
  {
   "cell_type": "raw",
   "id": "e1cb8424-76d4-493d-a9d1-8bf4d950182a",
   "metadata": {},
   "source": [
    "# END TESTS"
   ]
  },
  {
   "cell_type": "raw",
   "id": "b59eb361-ad05-439c-bb89-a12401f952b6",
   "metadata": {},
   "source": [
    "# END QUESTION"
   ]
  },
  {
   "cell_type": "raw",
   "id": "4d0a4181-fc1d-4a63-a173-401e5c673c1f",
   "metadata": {},
   "source": [
    "# BEGIN QUESTION\n",
    "name: q2"
   ]
  },
  {
   "cell_type": "markdown",
   "id": "e09baee1-36b2-4b69-8406-eb01c7fab2ad",
   "metadata": {},
   "source": [
    "**Question 2.** How many seconds are in a week?"
   ]
  },
  {
   "cell_type": "raw",
   "id": "6a343ab9-0383-44bd-87a8-db51d78d6e2a",
   "metadata": {},
   "source": [
    "# BEGIN SOLUTION"
   ]
  },
  {
   "cell_type": "code",
   "execution_count": 6,
   "id": "af25795b-5e80-4438-ad14-ca6ea1caa449",
   "metadata": {
    "tags": []
   },
   "outputs": [
    {
     "data": {
      "text/plain": [
       "604800"
      ]
     },
     "execution_count": 6,
     "metadata": {},
     "output_type": "execute_result"
    }
   ],
   "source": [
    "secs_in_week = 7 * 24 * 60 * 60 # SOLUTION\n",
    "secs_in_week"
   ]
  },
  {
   "cell_type": "raw",
   "id": "82628fcd-365f-4d91-b743-1bc405afc241",
   "metadata": {},
   "source": [
    "# END SOLUTION"
   ]
  },
  {
   "cell_type": "raw",
   "id": "dee3f4fc-253d-4706-a3ce-d12d12cb0b9e",
   "metadata": {},
   "source": [
    "# BEGIN TESTS"
   ]
  },
  {
   "cell_type": "code",
   "execution_count": 7,
   "id": "204c45ec-a877-4806-b494-9ab4b14496bf",
   "metadata": {
    "tags": []
   },
   "outputs": [
    {
     "data": {
      "text/plain": [
       "True"
      ]
     },
     "execution_count": 7,
     "metadata": {},
     "output_type": "execute_result"
    }
   ],
   "source": [
    "secs_in_week == 604800"
   ]
  },
  {
   "cell_type": "code",
   "execution_count": 8,
   "id": "578e9bde-1592-4cd7-91a3-8c777336f1f8",
   "metadata": {
    "tags": []
   },
   "outputs": [
    {
     "data": {
      "text/plain": [
       "True"
      ]
     },
     "execution_count": 8,
     "metadata": {},
     "output_type": "execute_result"
    }
   ],
   "source": [
    "# HIDDEN \n",
    "type(secs_in_week) == int"
   ]
  },
  {
   "cell_type": "raw",
   "id": "2de4cbf0-3f00-4f99-b231-187724901f72",
   "metadata": {},
   "source": [
    "# END TESTS"
   ]
  },
  {
   "cell_type": "raw",
   "id": "18f98d8d-a127-4355-bb51-fef1ce737924",
   "metadata": {},
   "source": [
    "# END QUESTION"
   ]
  },
  {
   "cell_type": "raw",
   "id": "7579833e-9f3d-42d7-811e-6f6eb417b73a",
   "metadata": {},
   "source": [
    "# BEGIN QUESTION\n",
    "name: q3"
   ]
  },
  {
   "cell_type": "markdown",
   "id": "5fc4ff66-9aed-4a62-a1f2-b1995aff82a0",
   "metadata": {},
   "source": [
    "**Question 3.** How many seconds are in a week?"
   ]
  },
  {
   "cell_type": "raw",
   "id": "06e10e78-1281-4b70-8c8c-2518ace62f80",
   "metadata": {},
   "source": [
    "# BEGIN SOLUTION"
   ]
  },
  {
   "cell_type": "code",
   "execution_count": 9,
   "id": "68d285a8-8de7-464a-ad87-bb16d6998835",
   "metadata": {
    "tags": []
   },
   "outputs": [
    {
     "data": {
      "text/plain": [
       "604800"
      ]
     },
     "execution_count": 9,
     "metadata": {},
     "output_type": "execute_result"
    }
   ],
   "source": [
    "secs_in_week = 7 * 24 * 60 * 60 # SOLUTION\n",
    "secs_in_week"
   ]
  },
  {
   "cell_type": "raw",
   "id": "618f1862-3f70-4f61-bd82-658c79b4237c",
   "metadata": {},
   "source": [
    "# END SOLUTION"
   ]
  },
  {
   "cell_type": "raw",
   "id": "cd5a9556-a140-4688-b588-93bedba93efe",
   "metadata": {},
   "source": [
    "# BEGIN TESTS"
   ]
  },
  {
   "cell_type": "code",
   "execution_count": 10,
   "id": "b5006323-b4ff-4b0c-8b16-07a1579d49c0",
   "metadata": {},
   "outputs": [
    {
     "data": {
      "text/plain": [
       "True"
      ]
     },
     "execution_count": 10,
     "metadata": {},
     "output_type": "execute_result"
    }
   ],
   "source": [
    "secs_in_week != ..."
   ]
  },
  {
   "cell_type": "code",
   "execution_count": 11,
   "id": "4a3b4abf-9d62-468e-84fd-6dba90351d05",
   "metadata": {
    "tags": []
   },
   "outputs": [
    {
     "data": {
      "text/plain": [
       "True"
      ]
     },
     "execution_count": 11,
     "metadata": {},
     "output_type": "execute_result"
    }
   ],
   "source": [
    "isinstance(secs_in_week, int)"
   ]
  },
  {
   "cell_type": "code",
   "execution_count": 12,
   "id": "ce3b140a-1341-497f-9bf4-9170109876e4",
   "metadata": {
    "tags": []
   },
   "outputs": [
    {
     "data": {
      "text/plain": [
       "True"
      ]
     },
     "execution_count": 12,
     "metadata": {},
     "output_type": "execute_result"
    }
   ],
   "source": [
    "secs_in_week == 604800"
   ]
  },
  {
   "cell_type": "raw",
   "id": "5471addf-73a7-4d44-b216-1c7b1c36f977",
   "metadata": {},
   "source": [
    "# END TESTS"
   ]
  },
  {
   "cell_type": "raw",
   "id": "46975544-5c60-4ffd-ab93-fcbe3b436cf7",
   "metadata": {},
   "source": [
    "# END QUESTION"
   ]
  },
  {
   "cell_type": "raw",
   "id": "bf9c3d4d-7832-48a1-9d95-2acbec59d1de",
   "metadata": {},
   "source": [
    "# BEGIN QUESTION\n",
    "name: q4"
   ]
  },
  {
   "cell_type": "markdown",
   "id": "65f3bcd0-d78e-4dbf-ae15-ff49aa1bee17",
   "metadata": {},
   "source": [
    "**Question 4.** How many seconds are in a week?"
   ]
  },
  {
   "cell_type": "raw",
   "id": "d2546f67-af62-45fd-9f23-233700d14ab4",
   "metadata": {},
   "source": [
    "# BEGIN SOLUTION"
   ]
  },
  {
   "cell_type": "code",
   "execution_count": 13,
   "id": "e1327cb2-1624-438a-b3f0-08a95ab1ced5",
   "metadata": {
    "tags": []
   },
   "outputs": [],
   "source": [
    "secs_in_week = 7 * 24 * 60 * 60 # SOLUTION"
   ]
  },
  {
   "cell_type": "raw",
   "id": "c830ceec-cfa7-44d0-90bc-2157c2f1bfcd",
   "metadata": {},
   "source": [
    "# END SOLUTION"
   ]
  },
  {
   "cell_type": "raw",
   "id": "d811e43d-4722-4b10-93cc-1c603932d640",
   "metadata": {},
   "source": [
    "# BEGIN TESTS"
   ]
  },
  {
   "cell_type": "code",
   "execution_count": 14,
   "id": "a7dd4656-b5f1-402a-b5a0-d95ab7f80ce3",
   "metadata": {
    "tags": []
   },
   "outputs": [
    {
     "data": {
      "text/plain": [
       "True"
      ]
     },
     "execution_count": 14,
     "metadata": {},
     "output_type": "execute_result"
    }
   ],
   "source": [
    "\"\"\" # BEGIN TEST CONFIG\n",
    "failure_message: Did you forget to enter an expression?\n",
    "\"\"\" # END TEST CONFIG \n",
    "secs_in_week != ..."
   ]
  },
  {
   "cell_type": "code",
   "execution_count": 15,
   "id": "c13c4296-3285-4035-91a0-8b36b85b9bec",
   "metadata": {
    "tags": []
   },
   "outputs": [
    {
     "data": {
      "text/plain": [
       "True"
      ]
     },
     "execution_count": 15,
     "metadata": {},
     "output_type": "execute_result"
    }
   ],
   "source": [
    "\"\"\" # BEGIN TEST CONFIG\n",
    "failure_message: Check the data type of your result.\n",
    "\"\"\" # END TEST CONFIG  \n",
    "isinstance(secs_in_week, int)"
   ]
  },
  {
   "cell_type": "code",
   "execution_count": 16,
   "id": "fd46ed26-8a1d-42ff-aa42-d05dac34e1bc",
   "metadata": {
    "tags": []
   },
   "outputs": [
    {
     "data": {
      "text/plain": [
       "True"
      ]
     },
     "execution_count": 16,
     "metadata": {},
     "output_type": "execute_result"
    }
   ],
   "source": [
    "# HIDDEN\n",
    "secs_in_week == 604800"
   ]
  },
  {
   "cell_type": "raw",
   "id": "f54923e8-5b68-433f-85fd-397f5c4adc35",
   "metadata": {},
   "source": [
    "# END TESTS"
   ]
  },
  {
   "cell_type": "raw",
   "id": "f5815ccf-f0ef-47ec-89ea-9a6eb7bac122",
   "metadata": {},
   "source": [
    "# END QUESTION"
   ]
  },
  {
   "cell_type": "markdown",
   "id": "98f037c9-b0dc-49aa-a715-17de06f10ebd",
   "metadata": {},
   "source": [
    "Here is an example of what the student will see.\n",
    "\n",
    "**Question 1.** How many seconds in a week?"
   ]
  },
  {
   "cell_type": "markdown",
   "id": "31955466-6cc2-4fdd-91a8-88de021c4c3e",
   "metadata": {},
   "source": [
    "`secs_in_week` = . . ."
   ]
  },
  {
   "cell_type": "markdown",
   "id": "8fe17b3b-b034-4174-9249-2385cdf02d5a",
   "metadata": {},
   "source": [
    "## 2. Manually Graded Question\n",
    "\n",
    "Here is an example of a manually graded question:"
   ]
  },
  {
   "cell_type": "raw",
   "id": "37c1ea22-cdce-4318-9c0b-e47a1aa770c6",
   "metadata": {},
   "source": [
    "# BEGIN QUESTION\n",
    "name: q5\n",
    "manual: true"
   ]
  },
  {
   "cell_type": "markdown",
   "id": "14105efa-2275-46eb-9d7f-da871e9a164e",
   "metadata": {},
   "source": [
    "**Question 5.** What is your favorite day of the week?"
   ]
  },
  {
   "cell_type": "raw",
   "id": "f2af33d9-4ad5-4d5a-b193-efa206d70b26",
   "metadata": {},
   "source": [
    "# BEGIN SOLUTION"
   ]
  },
  {
   "cell_type": "markdown",
   "id": "e6402e6f-a5b8-4bef-94e9-73199eecc658",
   "metadata": {
    "tags": []
   },
   "source": [
    "**SOLUTION:** My favorite day of the week is Friday. Answers may vary."
   ]
  },
  {
   "cell_type": "raw",
   "id": "ba23a861-cf67-4b27-8375-b0fcb2de41fc",
   "metadata": {},
   "source": [
    "# END SOLUTION"
   ]
  },
  {
   "cell_type": "raw",
   "id": "58445f98-4fff-48ec-8e78-a55d7e91c0b8",
   "metadata": {},
   "source": [
    "# END QUESTION"
   ]
  },
  {
   "cell_type": "markdown",
   "id": "2f3bd1e0-9920-4b8e-aa92-97c159acd8f2",
   "metadata": {},
   "source": [
    "Here is an example of what the student will see.\n",
    "\n",
    "**Question 5.** What is your favorite day of the week?"
   ]
  },
  {
   "cell_type": "markdown",
   "id": "8d55ab0f-3cff-4c0a-a459-0b73e646a53d",
   "metadata": {},
   "source": [
    "_Type your answer here replacing this text._"
   ]
  },
  {
   "cell_type": "markdown",
   "id": "6af5b23d-2349-419f-9cd0-4775488352a1",
   "metadata": {},
   "source": [
    "## 3. Importing\n",
    "\n",
    "Run the cell below to set up the notebook."
   ]
  },
  {
   "cell_type": "code",
   "execution_count": 17,
   "id": "f4660ea4-6db5-471a-8565-a8ed75b9c697",
   "metadata": {
    "tags": []
   },
   "outputs": [],
   "source": [
    "import numpy as np\n",
    "from datascience import *\n",
    "\n",
    "%matplotlib inline\n",
    "import matplotlib.pyplot as plt\n",
    "plt.style.use('fivethirtyeight')"
   ]
  },
  {
   "cell_type": "markdown",
   "id": "58b36f18-0ff8-47a9-ba57-117784e82a18",
   "metadata": {},
   "source": [
    "Read a dataset"
   ]
  },
  {
   "cell_type": "code",
   "execution_count": 18,
   "id": "b846d92b-9bda-4ca7-b9c2-091cb52cb020",
   "metadata": {
    "tags": []
   },
   "outputs": [
    {
     "data": {
      "text/html": [
       "<table border=\"1\" class=\"dataframe\">\n",
       "    <thead>\n",
       "        <tr>\n",
       "            <th>vehicle</th> <th>year</th> <th>msrp</th> <th>acceleration</th> <th>mpg</th> <th>class</th>\n",
       "        </tr>\n",
       "    </thead>\n",
       "    <tbody>\n",
       "        <tr>\n",
       "            <td>Prius (1st Gen)</td> <td>1997</td> <td>24509.7</td> <td>7.46        </td> <td>41.26</td> <td>Compact   </td>\n",
       "        </tr>\n",
       "        <tr>\n",
       "            <td>Tino           </td> <td>2000</td> <td>35355  </td> <td>8.2         </td> <td>54.1 </td> <td>Compact   </td>\n",
       "        </tr>\n",
       "        <tr>\n",
       "            <td>Prius (2nd Gen)</td> <td>2000</td> <td>26832.2</td> <td>7.97        </td> <td>45.23</td> <td>Compact   </td>\n",
       "        </tr>\n",
       "        <tr>\n",
       "            <td>Insight        </td> <td>2000</td> <td>18936.4</td> <td>9.52        </td> <td>53   </td> <td>Two Seater</td>\n",
       "        </tr>\n",
       "        <tr>\n",
       "            <td>Civic (1st Gen)</td> <td>2001</td> <td>25833.4</td> <td>7.04        </td> <td>47.04</td> <td>Compact   </td>\n",
       "        </tr>\n",
       "        <tr>\n",
       "            <td>Insight        </td> <td>2001</td> <td>19036.7</td> <td>9.52        </td> <td>53   </td> <td>Two Seater</td>\n",
       "        </tr>\n",
       "        <tr>\n",
       "            <td>Insight        </td> <td>2002</td> <td>19137  </td> <td>9.71        </td> <td>53   </td> <td>Two Seater</td>\n",
       "        </tr>\n",
       "        <tr>\n",
       "            <td>Alphard        </td> <td>2003</td> <td>38084.8</td> <td>8.33        </td> <td>40.46</td> <td>Minivan   </td>\n",
       "        </tr>\n",
       "        <tr>\n",
       "            <td>Insight        </td> <td>2003</td> <td>19137  </td> <td>9.52        </td> <td>53   </td> <td>Two Seater</td>\n",
       "        </tr>\n",
       "        <tr>\n",
       "            <td>Civic          </td> <td>2003</td> <td>14071.9</td> <td>8.62        </td> <td>41   </td> <td>Compact   </td>\n",
       "        </tr>\n",
       "    </tbody>\n",
       "</table>\n",
       "<p>... (143 rows omitted)</p>"
      ],
      "text/plain": [
       "vehicle         | year | msrp    | acceleration | mpg   | class\n",
       "Prius (1st Gen) | 1997 | 24509.7 | 7.46         | 41.26 | Compact\n",
       "Tino            | 2000 | 35355   | 8.2          | 54.1  | Compact\n",
       "Prius (2nd Gen) | 2000 | 26832.2 | 7.97         | 45.23 | Compact\n",
       "Insight         | 2000 | 18936.4 | 9.52         | 53    | Two Seater\n",
       "Civic (1st Gen) | 2001 | 25833.4 | 7.04         | 47.04 | Compact\n",
       "Insight         | 2001 | 19036.7 | 9.52         | 53    | Two Seater\n",
       "Insight         | 2002 | 19137   | 9.71         | 53    | Two Seater\n",
       "Alphard         | 2003 | 38084.8 | 8.33         | 40.46 | Minivan\n",
       "Insight         | 2003 | 19137   | 9.52         | 53    | Two Seater\n",
       "Civic           | 2003 | 14071.9 | 8.62         | 41    | Compact\n",
       "... (143 rows omitted)"
      ]
     },
     "execution_count": 18,
     "metadata": {},
     "output_type": "execute_result"
    }
   ],
   "source": [
    "hybrid = Table.read_table('data/hybrid.csv')\n",
    "hybrid"
   ]
  },
  {
   "cell_type": "markdown",
   "id": "e6a7bc1a-0b5f-4e3c-bd75-cb7cd1a3f9d9",
   "metadata": {},
   "source": [
    "Format an image"
   ]
  },
  {
   "cell_type": "markdown",
   "id": "5466daeb-204f-4b3c-b426-4a0878606502",
   "metadata": {},
   "source": [
    "<img src=\"images/hybrid-car.png\"/>"
   ]
  },
  {
   "cell_type": "markdown",
   "id": "108f81aa-a176-4008-ac65-82fdaaff7acb",
   "metadata": {},
   "source": [
    "<img src=\"images/hybrid-car.png\" width=\"200\"/>"
   ]
  },
  {
   "cell_type": "markdown",
   "id": "bb7fe65f-d559-45aa-929e-30431e8921f8",
   "metadata": {},
   "source": [
    "<img src=\"images/hybrid-car.png\" height=\"800\" width=\"1200\"/>"
   ]
  },
  {
   "cell_type": "markdown",
   "id": "30f0b45c-f415-4837-8e82-a60426846fc3",
   "metadata": {},
   "source": [
    "<div style=\"text-align:center\"><img src=\"images/hybrid-car.png\" /></div>"
   ]
  }
 ],
 "metadata": {
  "kernelspec": {
   "display_name": "Python 3 (ipykernel)",
   "language": "python",
   "name": "python3"
  },
  "language_info": {
   "codemirror_mode": {
    "name": "ipython",
    "version": 3
   },
   "file_extension": ".py",
   "mimetype": "text/x-python",
   "name": "python",
   "nbconvert_exporter": "python",
   "pygments_lexer": "ipython3",
   "version": "3.9.9"
  }
 },
 "nbformat": 4,
 "nbformat_minor": 1
}
