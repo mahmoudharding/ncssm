{
 "cells": [
  {
   "cell_type": "code",
   "execution_count": null,
   "metadata": {
    "deletable": false,
    "editable": false
   },
   "outputs": [],
   "source": [
    "# Initialize Otter\n",
    "import otter\n",
    "grader = otter.Notebook(\"diy01.ipynb\")"
   ]
  },
  {
   "cell_type": "markdown",
   "metadata": {
    "tags": []
   },
   "source": [
    "# Run the cell below\n",
    "\n",
    "To run a code cell (i.e.; execute the python code inside a Jupyter notebook) you can click the play button on the ribbon underneath the name of the notebook. Before you begin click the \"Run cell\" button at the top that looks like ▶| or hold down `Shift` + `Return`."
   ]
  },
  {
   "cell_type": "markdown",
   "metadata": {},
   "source": [
    "# DIY01: Introduction to Jupyter Notebboks\n",
    "\n",
    "Welcome to the Summer Institute for Data Science! During this session will create notebooks like this one. You can't learn technical subjects without hands-on practice, so these activities are an important part of the session.\n",
    "\n",
    "**Collaboration Policy:**\n",
    "\n",
    "Collaborating on labs is more than okay $-$ it's encouraged! You should rarely remain stuck for more than a few minutes on questions in labs, so ask a neighbor or an instructor for help. Explaining things is beneficial, too $-$ the best way to solidify your knowledge of a subject is to explain it. You should **_not just_** copy/paste someone else's code, but rather work together to gain understanding of the task you need to complete. \n",
    "\n",
    "**Due Date:** \n",
    "\n",
    "## Today's Assignment\n",
    "\n",
    "In today's assignment, you'll learn how to:\n",
    "\n",
    "- navigate Jupyter notebooks (like this one);\n",
    "\n",
    "- format text in markdown cells;\n",
    "\n",
    "- write and evaluate some basic **expressions** in Python, the computer language of the course.\n",
    "\n",
    "Let's get started!"
   ]
  },
  {
   "cell_type": "markdown",
   "metadata": {
    "tags": []
   },
   "source": [
    "## 1. Jupyter Notebooks\n",
    "\n",
    "This webpage is called a Jupyter notebook. A notebook is a place to write programs and view their results. We can also to write and format text using markdown. For this class, I encourage the use of notebooks to prototype work. In the future (either later in this class or beyond) you will likely want to write programs designed to run on all by themselves or interactively for end-users. But we generally will skip over that for now.\n",
    "\n",
    "As for working in notebooks, there are two types of cells (each rectangle containing text or code is called a **cell**): \n",
    "\n",
    " - **code** cells that hold executable code.\n",
    " \n",
    " - **markdown** cells that hold a special kind of text that follows the markdown syntax. To get familiar with the markdown syntax, take a look at this [Markdown Gudie](https://www.markdownguide.org/basic-syntax/). Markdown cells (like this one) can be edited by double-clicking on them. After you edit a markdown cell, click the \"Run cell\" button at the top that looks like ▶| or hold down `Shift` + `Return` to confirm any changes. \n",
    "\n",
    "   **Note:** Try not to delete the instructions of the assignment.\n",
    "\n",
    "### 1.1 Markdown Cells\n",
    "\n",
    "Markdown cells are sometime referred to as *text* cells. In the text cell below enter your name, section, and the date.\n",
    "\n",
    "**Note:** After you make changes to the text cell don't forget to click the \"Run cell\" button at the top that looks like ▶| or hold down `Shift` + `Return` to view the changes."
   ]
  },
  {
   "cell_type": "markdown",
   "metadata": {},
   "source": [
    "**Name:** \n",
    "\n",
    "**Course:** \n",
    "\n",
    "**Date:**"
   ]
  },
  {
   "cell_type": "markdown",
   "metadata": {},
   "source": [
    "#### 1.1.1 Italics and Bold\n",
    "\n",
    "We'll start by learning two basic elements in text formatting: italics and bold. In these lessons, you'll notice some formatted and highlighted `text`; this text is actually written in Markdown. Regular Markdown doesn't look any different than regular text, but we're providing some highlighting to make it easier to see.\n",
    "\n",
    "To make a phrase italic in Markdown, you can surround words with an underscore `(_)`. For example, `_this_` word would become italic; _this_."
   ]
  },
  {
   "cell_type": "markdown",
   "metadata": {},
   "source": [
    "**Question 1.** Make the word \"not\" in the next cell appear in italic."
   ]
  },
  {
   "cell_type": "markdown",
   "metadata": {},
   "source": [
    "Writing markdown is not that hard!"
   ]
  },
  {
   "cell_type": "markdown",
   "metadata": {},
   "source": [
    "Awesome! Great job.\n",
    "\n",
    "Similarly, to make phrases bold in Markdown, you can surround words with two asterisks `( ** )`. This will **really** get your point across."
   ]
  },
  {
   "cell_type": "markdown",
   "metadata": {},
   "source": [
    "**Question 2.** In the cell below, make the word \"will\" bold."
   ]
  },
  {
   "cell_type": "markdown",
   "metadata": {},
   "source": [
    "I will complete this lesson!"
   ]
  },
  {
   "cell_type": "markdown",
   "metadata": {},
   "source": [
    "Of course, you can use _italics_ and **bold** in the same line. You can also span them **across multiple words**.\n",
    "\n",
    "**Question 3.** In the box below, make the words \"Of course\" italic, and the words \"a little moxie\" bold."
   ]
  },
  {
   "cell_type": "markdown",
   "metadata": {},
   "source": [
    "\"Of course,\" she whispered. Then, she shouted: \"All I need is a little moxie!\""
   ]
  },
  {
   "cell_type": "markdown",
   "metadata": {},
   "source": [
    "For the final exercise in this section, we're going to make some words bold and italic.\n",
    "\n",
    "**Question 4.** In general, it doesn't matter which order you place the asterisks or underscores. In the cell below, make the words \"This is unbelievable\" both bold and italic. Place the asterisks `**_on the outside_**`, just to make it more legible."
   ]
  },
  {
   "cell_type": "markdown",
   "metadata": {},
   "source": [
    "If you're thinking to yourself, This is unbelievable, you'd probably be right."
   ]
  },
  {
   "cell_type": "markdown",
   "metadata": {},
   "source": [
    "#### 1.1.2 Headers\n",
    "\n",
    "Let's take a look at another formatting convention: the header. Headers are frequently used on websites, magazine articles, and notices, to draw attention to a section. As their name implies, they act like titles or subtitles above sections.\n",
    "\n",
    "There are six types of headers, in decreasing sizes:\n",
    "\n",
    "# This is header one\n",
    "## This is header two\n",
    "### This is header three\n",
    "#### This is header four\n",
    "##### This is header five\n",
    "###### This is header six\n",
    "\n",
    "To make headers in Markdown, you preface the phrase with a hash mark `(#)`. You place the same number of hash marks as the size of the header you want. For example, for a header one, you'd use one hash mark `(# Header One)`, while for a header three, you'd use three `(### Header Three)`.\n",
    "\n",
    "**Question 5.** Make each header the right size."
   ]
  },
  {
   "cell_type": "markdown",
   "metadata": {},
   "source": [
    "Header one\n",
    "\n",
    "Header two\n",
    "\n",
    "Header three\n",
    "\n",
    "Header four\n",
    "\n",
    "Header five\n",
    "\n",
    "Header six"
   ]
  },
  {
   "cell_type": "markdown",
   "metadata": {},
   "source": [
    "All right!\n",
    "\n",
    "It's up to you to decide when it's appropriate to use which header. In general, headers one and six should be used sparingly. You can't really make a header bold, but you can italicize certain words. \n",
    "\n",
    "**Question 6.** In the cell below, make the first line a level four heading , and italicize the name of the author:"
   ]
  },
  {
   "cell_type": "markdown",
   "metadata": {},
   "source": [
    "An Interesting Book about Data Science and Ethics\n",
    "\n",
    "Weapons of Math Destruction by Cathy O'Neil"
   ]
  },
  {
   "cell_type": "markdown",
   "metadata": {},
   "source": [
    "#### 1.1.3 Links\n",
    "\n",
    "What is meant by inline link? Inline links are a design pattern that uses hyperlinked words — conventionally blue, underlined words — to guide users to another page containing related information. Designers employ inline links so that the information linked from the highlighted words does not clutter the user's current webpage. To create an inline link, you wrap the link text in brackets `( [ ] )`, and then you wrap the link in parenthesis `( ( ) )`. For example, to create a hyperlink to www.exeter.edu/, with a link text that says, Visit Exeter!, you'd write this in Markdown: `[Visit NCSSM!](https://www.ncssm.edu/)`.\n",
    "\n",
    "**Question 7.** In the blank cell below, make a link to www.google.com, with link text that says \"Search for it.\""
   ]
  },
  {
   "cell_type": "markdown",
   "metadata": {},
   "source": [
    "_Type your answer here_"
   ]
  },
  {
   "cell_type": "markdown",
   "metadata": {},
   "source": [
    "#### 1.1.4 Lists\n",
    "\n",
    "There are two types of lists: unordered and ordered. That's a fancy way of saying that there are lists with bullet points, and lists with numbers.\n",
    "\n",
    "To create an unordered list, you'll want to preface each item in the list with an asterisk `( * )`. Each list item also gets its own line. For example, a grocery list in Markdown might look like this:\n",
    "\n",
    "```\n",
    "\n",
    "* Milk\n",
    "\n",
    "* Eggs\n",
    "\n",
    "* Salmon\n",
    "\n",
    "* Butter\n",
    "\n",
    "```\n",
    "\n",
    "This Markdown list would render into the following bullet points:\n",
    "\n",
    "- Milk\n",
    "\n",
    "- Eggs\n",
    "\n",
    "- Salmon\n",
    "\n",
    "- Butter\n",
    "\n",
    "**Question 8.** In the cell below, turn the words separated by a comma into a list."
   ]
  },
  {
   "cell_type": "markdown",
   "metadata": {},
   "source": [
    "Mathematics, Science, Computer Programming"
   ]
  },
  {
   "cell_type": "markdown",
   "metadata": {},
   "source": [
    "All right! That's how you write an unordered list. Now, let's talk about ordered ones.\n",
    "\n",
    "An ordered list is prefaced with numbers, instead of asterisks. Take a look at this recipe:\n",
    "\n",
    "```\n",
    "1. Crack three eggs over a bowl\n",
    "\n",
    "2. Pour a gallon of milk into the bowl\n",
    "\n",
    "3. Rub the salmon vigorously with butter\n",
    "\n",
    "4. Drop the salmon into the egg-milk bowl\n",
    "```\n",
    "\n",
    "To write that in Markdown, you'd do this:\n",
    "\n",
    "1. Crack three eggs over a bowl\n",
    "2. Pour a gallon of milk into the bowl\n",
    "3. Rub the salmon vigorously with butter\n",
    "4. Drop the salmon into the egg-milk bowl\n",
    "\n",
    "Easy, right? It's just like you'd expect a list to look.\n",
    "\n",
    "**Question 9.** In the cell below, turn the rest of the recipe into an ordered list. Remember to start numbering from the end of the previous set of instructions."
   ]
  },
  {
   "cell_type": "markdown",
   "metadata": {},
   "source": [
    "Cut the cheese, Slice the tomatoes, Rub the tomatoes in flour"
   ]
  },
  {
   "cell_type": "markdown",
   "metadata": {
    "tags": []
   },
   "source": [
    "#### 1.1.4 Paragraphs\n",
    "\n",
    "Markdown has several ways of formatting paragraphs.\n",
    "\n",
    "Let's take a few lines of poetry as an example. Suppose you want to write text that looks like this:\n",
    "\n",
    "```\n",
    "You may write me down in history\n",
    "With your bitter, twisted lies,\n",
    "You may tread me in the very dirt\n",
    "But still, like dust, I'll rise.\n",
    "```\n",
    "\n",
    "Now, you might think that simply typing each verse onto its own line would be enough to solve the problem:"
   ]
  },
  {
   "cell_type": "markdown",
   "metadata": {},
   "source": [
    "You may write me down in history\n",
    "With your bitter, twisted lies,\n",
    "You may tread me in the very dirt\n",
    "But still, like dust, I'll rise."
   ]
  },
  {
   "cell_type": "markdown",
   "metadata": {},
   "source": [
    "Unfortunately, you'd be wrong! This Markdown would render simply as a single straight line: \n",
    "\n",
    "You may write me down in history With your bitter, twisted lies, You may tread me in the very dirt But still, like dust, I'll rise.\n",
    "\n",
    "If you forcefully insert a new line, you end up breaking the togetherness:"
   ]
  },
  {
   "cell_type": "markdown",
   "metadata": {},
   "source": [
    "You may write me down in history\n",
    "\n",
    "With your bitter, twisted lies,\n",
    "\n",
    "You may tread me in the very dirt\n",
    "\n",
    "But still, like dust, I'll rise."
   ]
  },
  {
   "cell_type": "markdown",
   "metadata": {},
   "source": [
    "This is what's known as a hard break; what our poetry asks for is a soft break. You can accomplish this by inserting two spaces after each new line."
   ]
  },
  {
   "cell_type": "markdown",
   "metadata": {},
   "source": [
    "### 1.2 Code Cells\n",
    "\n",
    "Other cells contain code in the Python 3 language. Running a code cell will execute all of the code it contains.\n",
    "\n",
    "To run the code in a code cell, first click on that cell to activate it. It'll be highlighted with a little green or blue rectangle.  Next, either press ▶| or hold down `shift` + `return`.\n",
    "\n",
    "Try running the cell below:"
   ]
  },
  {
   "cell_type": "code",
   "execution_count": null,
   "metadata": {},
   "outputs": [],
   "source": [
    "print(\"Hello, World!\")"
   ]
  },
  {
   "cell_type": "code",
   "execution_count": null,
   "metadata": {},
   "outputs": [],
   "source": [
    "print(\"\\N{WAVING HAND SIGN}, \\N{EARTH GLOBE ASIA-AUSTRALIA}!\")"
   ]
  },
  {
   "cell_type": "markdown",
   "metadata": {},
   "source": [
    "The fundamental building block of Python code is an expression. Cells can contain multiple lines with multiple expressions. When you run a cell, the lines of code are executed in the order in which they appear. Every `print` expression prints a line. \n",
    "\n",
    "Run the next cell and notice the order of the output."
   ]
  },
  {
   "cell_type": "code",
   "execution_count": null,
   "metadata": {},
   "outputs": [],
   "source": [
    "print('This is line one')\n",
    "print('and this is line two.')"
   ]
  },
  {
   "cell_type": "markdown",
   "metadata": {},
   "source": [
    "You can use Jupyter notebooks for your own projects or documents.  When you make your own notebook, you'll need to create your own cells for text and code.\n",
    "\n",
    "To add a cell, click the + button in the menu bar.  It'll start out as a text cell.  You can change it to a code cell by clicking inside it so it's highlighted, clicking the drop-down box next to the restart (⟳) button in the menu bar, and choosing \"Code\"."
   ]
  },
  {
   "cell_type": "markdown",
   "metadata": {},
   "source": [
    "#### 1.2.1 Numbers\n",
    "\n",
    "Quantitative information arises everywhere in data science. In addition to representing commands to print out lines, expressions can represent numbers and methods of combining numbers. The expression `3.2500` evaluates to the number 3.25. \n",
    "\n",
    "Run the cell and see."
   ]
  },
  {
   "cell_type": "code",
   "execution_count": null,
   "metadata": {},
   "outputs": [],
   "source": [
    "3.2500"
   ]
  },
  {
   "cell_type": "markdown",
   "metadata": {},
   "source": [
    "Notice that we didn't have to print. When you run a notebook cell, if the last line has a value, then Jupyter helpfully prints out that value for you. However, it won't print out prior lines automatically."
   ]
  },
  {
   "cell_type": "code",
   "execution_count": null,
   "metadata": {},
   "outputs": [],
   "source": [
    "print(2)\n",
    "3\n",
    "4"
   ]
  },
  {
   "cell_type": "markdown",
   "metadata": {},
   "source": [
    "Above, you should see that 4 is the value of the last expression, 2 is printed, but 3 is lost forever because it was neither printed nor last.\n",
    "\n",
    "You don't want to print everything all the time anyway.  But if you feel sorry for 3, change the cell below to print it."
   ]
  },
  {
   "cell_type": "code",
   "execution_count": null,
   "metadata": {},
   "outputs": [],
   "source": [
    "print(2)\n",
    "3\n",
    "4"
   ]
  },
  {
   "cell_type": "markdown",
   "metadata": {},
   "source": [
    "#### 1.2.2 Arithmetic\n",
    "\n",
    "The line in the next cell subtracts.  Its value is what you'd expect.  \n",
    "\n",
    "Run it."
   ]
  },
  {
   "cell_type": "code",
   "execution_count": null,
   "metadata": {},
   "outputs": [],
   "source": [
    "3.25 - 1.5"
   ]
  },
  {
   "cell_type": "markdown",
   "metadata": {},
   "source": [
    "Many basic arithmetic operations are built into Python. The textbook section on Expressions describes all the arithmetic operators used in the course. The common operator that differs from typical math notation is `**`, which raises one number to the power of the other. So, `2**3` stands for  $2^3$  and evaluates to 8.\n",
    "\n",
    "The order of operations is the same as what you learned in middle school, and Python also has parentheses. For example, compare the outputs of the cells below. The second cell uses parentheses for a happy new year."
   ]
  },
  {
   "cell_type": "code",
   "execution_count": null,
   "metadata": {
    "tags": []
   },
   "outputs": [],
   "source": [
    "7 + 6 * 5 - 6 * 3**2 * 2**3/4 * 7"
   ]
  },
  {
   "cell_type": "code",
   "execution_count": null,
   "metadata": {
    "tags": []
   },
   "outputs": [],
   "source": [
    "7 + (6 * 5 - (6 * 3))**2 * ((2**3)/4 * 7)"
   ]
  },
  {
   "cell_type": "markdown",
   "metadata": {},
   "source": [
    "In standard math notation, the first expression is\n",
    "\n",
    "$$7 + 6 \\times 5 - 6 \\times 3^2 \\times \\frac{2^3}{4} \\times 7,$$\n",
    "\n",
    "while the second expression is\n",
    "\n",
    "$$7 + (6 \\times 5 - \\left(6 \\times 3\\right)^2 \\times \\left(\\frac{2^3}{4} \\times 7\\right).$$\n",
    "\n",
    "## 2. Checking Your Code\n",
    "\n",
    "Now that you know how to navigate a Jupyter notebook, you can start using the built-in tests to check whether your work is correct. Sometimes, there are multiple tests for a single question, and passing all of them is required to receive credit for the question. A test cell will always look like:\n",
    "\n",
    "```\n",
    "grader.check(\"q11\")\n",
    "```\n",
    "\n",
    "Go ahead and attempt **Question 11.** Running the test cell directly after it will test whether you have the correct value. If you haven't, this particular test will tell you the correct answer. Resist the urge to just copy it, and instead try to adjust your expression. Additionally, if you make a common error sometimes the tests will give hints about what went wrong."
   ]
  },
  {
   "cell_type": "markdown",
   "metadata": {},
   "source": [
    "**Question 10.** In the cell below, write a Python expression in this next cell that's equal to \n",
    "\n",
    "$$5 \\times \\left(3 \\frac{10}{11} \\right) - 50 \\frac{1}{3} + 2^{.5 \\times 22} - \\frac{7}{33} + 6$$  \n",
    "\n",
    "That's five times three and ten elevenths, minus fifty and a third, plus two to the power of half twenty-two, minus seven thirty-thirds plus five.  By \"$3 \\frac{10}{11}$\" we mean $3+\\frac{10}{11}$, not $3 \\times \\frac{10}{11}$.\n",
    "\n",
    "Replace the ellipses in the blank cell below (`...`) with your expression. The result of your expression will be saved in the variable named `current_year`. Use parentheses only when necessary.\n",
    "\n",
    "**Hint:** The correct output should be a familiar number."
   ]
  },
  {
   "cell_type": "code",
   "execution_count": 2,
   "metadata": {
    "tags": [
     "otter_assign_solution_cell"
    ]
   },
   "outputs": [
    {
     "data": {
      "text/plain": [
       "2023.0"
      ]
     },
     "execution_count": 2,
     "metadata": {},
     "output_type": "execute_result"
    }
   ],
   "source": [
    "current_year = 5 * 43/11 -151/3 + 2**(.5 * 22) - 7/33 + 6 # SOLUTION\n",
    "current_year"
   ]
  },
  {
   "cell_type": "code",
   "execution_count": null,
   "metadata": {
    "deletable": false,
    "editable": false
   },
   "outputs": [],
   "source": [
    "grader.check(\"q10\")"
   ]
  },
  {
   "cell_type": "markdown",
   "metadata": {
    "deletable": false,
    "editable": false
   },
   "source": [
    "## Submission\n",
    "\n",
    "Make sure you have run all cells in your notebook in order before running the cell below, so that all images/graphs appear in the output. The cell below will generate a zip file for you to submit. **Please save before exporting!**"
   ]
  },
  {
   "cell_type": "code",
   "execution_count": null,
   "metadata": {
    "deletable": false,
    "editable": false
   },
   "outputs": [],
   "source": [
    "# Save your notebook first, then run this cell to export your submission.\n",
    "grader.export(pdf=False, run_tests=True)"
   ]
  },
  {
   "cell_type": "markdown",
   "metadata": {},
   "source": [
    " "
   ]
  }
 ],
 "metadata": {
  "kernelspec": {
   "display_name": "Python 3 (ipykernel)",
   "language": "python",
   "name": "python3"
  },
  "language_info": {
   "codemirror_mode": {
    "name": "ipython",
    "version": 3
   },
   "file_extension": ".py",
   "mimetype": "text/x-python",
   "name": "python",
   "nbconvert_exporter": "python",
   "pygments_lexer": "ipython3",
   "version": "3.9.9"
  },
  "otter": {
   "OK_FORMAT": true,
   "tests": {
    "q10": {
     "name": "q10",
     "points": null,
     "suites": [
      {
       "cases": [
        {
         "code": ">>> current_year != ...\nTrue",
         "failure_message": "Did you forget to enter an expression?",
         "hidden": false,
         "locked": false
        },
        {
         "code": ">>> isinstance(current_year, float)\nTrue",
         "failure_message": "Check your data type.",
         "hidden": false,
         "locked": false
        },
        {
         "code": ">>> current_year == 2023.0\nTrue",
         "hidden": true,
         "locked": false
        }
       ],
       "scored": true,
       "setup": "",
       "teardown": "",
       "type": "doctest"
      }
     ]
    }
   }
  }
 },
 "nbformat": 4,
 "nbformat_minor": 4
}
